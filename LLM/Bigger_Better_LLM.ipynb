{
 "cells": [
  {
   "cell_type": "markdown",
   "id": "66a4ca60",
   "metadata": {
    "papermill": {
     "duration": 0.018088,
     "end_time": "2024-09-06T09:15:41.85254",
     "exception": false,
     "start_time": "2024-09-06T09:15:41.834452",
     "status": "completed"
    },
    "tags": []
   },
   "source": [
    "# LLM's from Scratch\n",
    "\n",
    "*This notebook aims to: Apply what i learned from the book \"**Build a Large Language Model (From Scratch)**\" in one place\n",
    "\n",
    "- **official repo of the book** [rasbt/LLMs-from-scratch](https://github.com/rasbt/LLMs-from-scratch)"
   ]
  },
  {
   "cell_type": "markdown",
   "id": "5d66b2a0",
   "metadata": {
    "papermill": {
     "duration": 0.016493,
     "end_time": "2024-09-06T09:15:42.019274",
     "exception": false,
     "start_time": "2024-09-06T09:15:42.002781",
     "status": "completed"
    },
    "tags": []
   },
   "source": [
    "# Setup Environment\n",
    "\n",
    "Import libraries and initial all variables can be use all time in project"
   ]
  },
  {
   "cell_type": "code",
   "id": "a16e8ebb",
   "metadata": {
    "execution": {
     "iopub.execute_input": "2024-09-06T09:15:56.661832Z",
     "iopub.status.busy": "2024-09-06T09:15:56.661455Z",
     "iopub.status.idle": "2024-09-06T09:15:59.972301Z",
     "shell.execute_reply": "2024-09-06T09:15:59.971479Z"
    },
    "papermill": {
     "duration": 3.331245,
     "end_time": "2024-09-06T09:15:59.974725",
     "exception": false,
     "start_time": "2024-09-06T09:15:56.64348",
     "status": "completed"
    },
    "tags": [],
    "ExecuteTime": {
     "end_time": "2025-10-27T09:11:13.062284Z",
     "start_time": "2025-10-27T09:11:13.055680Z"
    }
   },
   "source": [
    "# Import Libraries \n",
    "import numpy as np\n",
    "import torch \n",
    "from torch.utils.data import Dataset, DataLoader\n",
    "from torch import nn \n",
    "import tiktoken as ttk\n",
    "\n",
    "from tqdm import tqdm\n",
    "import os\n",
    "import urllib.request\n",
    "from dataclasses import dataclass, field,asdict, replace\n",
    "\n",
    "from typing import Dict\n",
    "\n"
   ],
   "outputs": [],
   "execution_count": 10
  },
  {
   "cell_type": "code",
   "id": "bbefc9ae",
   "metadata": {
    "execution": {
     "iopub.execute_input": "2024-09-06T09:16:00.011209Z",
     "iopub.status.busy": "2024-09-06T09:16:00.010214Z",
     "iopub.status.idle": "2024-09-06T09:16:00.461197Z",
     "shell.execute_reply": "2024-09-06T09:16:00.46016Z"
    },
    "papermill": {
     "duration": 0.471468,
     "end_time": "2024-09-06T09:16:00.463635",
     "exception": false,
     "start_time": "2024-09-06T09:15:59.992167",
     "status": "completed"
    },
    "tags": [],
    "ExecuteTime": {
     "end_time": "2025-10-27T09:11:13.075595Z",
     "start_time": "2025-10-27T09:11:13.071260Z"
    }
   },
   "source": [
    "# get raw text we want to work with from official repo \n",
    "if not os.path.exists(\"the-verdict.txt\"):\n",
    "    url = (\"https://raw.githubusercontent.com/rasbt/\"\n",
    "           \"LLMs-from-scratch/main/ch02/01_main-chapter-code/\"\n",
    "           \"the-verdict.txt\")\n",
    "    file_path = \"the-verdict.txt\"\n",
    "    urllib.request.urlretrieve(url, file_path)"
   ],
   "outputs": [],
   "execution_count": 11
  },
  {
   "cell_type": "code",
   "id": "845a3860",
   "metadata": {
    "execution": {
     "iopub.execute_input": "2024-09-06T09:16:00.499617Z",
     "iopub.status.busy": "2024-09-06T09:16:00.49924Z",
     "iopub.status.idle": "2024-09-06T09:16:00.564572Z",
     "shell.execute_reply": "2024-09-06T09:16:00.563599Z"
    },
    "papermill": {
     "duration": 0.085571,
     "end_time": "2024-09-06T09:16:00.566598",
     "exception": false,
     "start_time": "2024-09-06T09:16:00.481027",
     "status": "completed"
    },
    "tags": [],
    "ExecuteTime": {
     "end_time": "2025-10-27T09:11:13.088583Z",
     "start_time": "2025-10-27T09:11:13.080143Z"
    }
   },
   "source": [
    "@dataclass\n",
    "class GPTConfig:\n",
    "    vocab_size: int = 50257\n",
    "    context_length: int = 512\n",
    "    emb_dim: int = 768\n",
    "    n_heads: int = 12\n",
    "    n_layers: int = 12\n",
    "    drop_rate: float = 0.1\n",
    "    qkv_bias: bool = False\n",
    "\n",
    "    def to_dict(self) -> dict:\n",
    "        return asdict(self)\n",
    "\n",
    "    def __repr__(self) -> str:\n",
    "        config_dict = self.to_dict()\n",
    "        formatted_items = [f'\"{key}\": {repr(value)}' for key, value in config_dict.items()]\n",
    "        return \"GPT_CONFIG_124M = {\\n    \" + \",\\n    \".join(formatted_items) + \"\\n}\"\n",
    "\n",
    "@dataclass\n",
    "class DataConfig:\n",
    "    dataPath: str =r'the-verdict.txt'\n",
    "    max_length: int = GPTConfig.context_length\n",
    "    batch_size: int = 64\n",
    "    train_ratio : float = 0.90\n",
    "    stride: int = GPTConfig.context_length\n",
    "#     def __post_init__(self):\n",
    "#         self.stride = self.max_length // 2\n",
    "DataConfig =DataConfig()\n",
    "GPTConfig=GPTConfig()\n",
    "device =  torch.device(\"cuda\" if torch.cuda.is_available() else \"cpu\")\n"
   ],
   "outputs": [],
   "execution_count": 12
  },
  {
   "cell_type": "code",
   "id": "5b76fb35",
   "metadata": {
    "execution": {
     "iopub.execute_input": "2024-09-06T09:16:00.602054Z",
     "iopub.status.busy": "2024-09-06T09:16:00.60171Z",
     "iopub.status.idle": "2024-09-06T09:16:00.608622Z",
     "shell.execute_reply": "2024-09-06T09:16:00.607738Z"
    },
    "papermill": {
     "duration": 0.027053,
     "end_time": "2024-09-06T09:16:00.61083",
     "exception": false,
     "start_time": "2024-09-06T09:16:00.583777",
     "status": "completed"
    },
    "tags": [],
    "ExecuteTime": {
     "end_time": "2025-10-27T09:11:13.100043Z",
     "start_time": "2025-10-27T09:11:13.093965Z"
    }
   },
   "source": [
    "def read_txt(path: str) -> str:\n",
    "    try:\n",
    "        with open(path, \"r\", encoding=\"utf-8\") as f:\n",
    "            raw_text = f.read()\n",
    "        return raw_text\n",
    "    except FileNotFoundError:\n",
    "        print(f\"Error: File not found at {path}\")\n",
    "        return \"\"\n",
    "    except Exception as e:\n",
    "        print(f\"An error occurred: {e}\")\n",
    "        return \"\"\n",
    "\n",
    "def text_to_token_ids(text, tokenizer):\n",
    "    encoded = tokenizer.encode(text)\n",
    "    encoded_tensor = torch.tensor(encoded).unsqueeze(0)  # add batch dimension\n",
    "    return encoded_tensor\n",
    "\n",
    "\n",
    "def token_ids_to_text(token_ids, tokenizer):\n",
    "    flat = token_ids.squeeze(0)  # remove batch dimension\n",
    "    return tokenizer.decode(flat.tolist())"
   ],
   "outputs": [],
   "execution_count": 13
  },
  {
   "metadata": {},
   "cell_type": "markdown",
   "source": "## Data Prep and sampling",
   "id": "e14ad774c955ea0b"
  },
  {
   "cell_type": "code",
   "id": "ead0480f",
   "metadata": {
    "execution": {
     "iopub.execute_input": "2024-09-06T09:16:00.714411Z",
     "iopub.status.busy": "2024-09-06T09:16:00.713681Z",
     "iopub.status.idle": "2024-09-06T09:16:00.724322Z",
     "shell.execute_reply": "2024-09-06T09:16:00.723479Z"
    },
    "papermill": {
     "duration": 0.030598,
     "end_time": "2024-09-06T09:16:00.72625",
     "exception": false,
     "start_time": "2024-09-06T09:16:00.695652",
     "status": "completed"
    },
    "tags": [],
    "ExecuteTime": {
     "end_time": "2025-10-27T09:11:13.113715Z",
     "start_time": "2025-10-27T09:11:13.100043Z"
    }
   },
   "source": [
    "\n",
    "class LLMDataset(Dataset):\n",
    "    \"\"\"\n",
    "    A custom Dataset for processing text data into input and target sequences for language modeling.\n",
    "\n",
    "    Args:\n",
    "        txt (str): The input text to be tokenized and processed.\n",
    "        tokenizer (Tokenizer): The tokenizer to be used for encoding the text.\n",
    "        max_length (int): The maximum length of each input sequence.\n",
    "        stride (int): The number of tokens to skip between sequences.\n",
    "    \"\"\"\n",
    "\n",
    "    def __init__(self, txt, tokenizer, max_length: int, stride: int):\n",
    "        self.tokenizer = tokenizer\n",
    "        token_ids = tokenizer.encode(txt)\n",
    "        self.input_ids = []\n",
    "        self.target_ids = []\n",
    "        \n",
    "        for i in tqdm(range(0, len(token_ids) - max_length, stride)):\n",
    "            input_chunk = token_ids[i:i + max_length]\n",
    "            target_chunk = token_ids[i + 1:i + max_length + 1]\n",
    "            self.input_ids.append(torch.tensor(input_chunk))\n",
    "            self.target_ids.append(torch.tensor(target_chunk))\n",
    "\n",
    "    def __len__(self):\n",
    "        \"\"\"\n",
    "        Returns the number of samples in the dataset.\n",
    "        \"\"\"\n",
    "        return len(self.input_ids)\n",
    "\n",
    "    def __getitem__(self, idx):\n",
    "        \"\"\"\n",
    "        Retrieves the input and target sequence at the specified index.\n",
    "\n",
    "        Args:\n",
    "            idx (int): The index of the sequence to retrieve.\n",
    "\n",
    "        Returns:\n",
    "            tuple: (input_ids, target_ids) where both are tensors.\n",
    "        \"\"\"\n",
    "        return self.input_ids[idx], self.target_ids[idx]\n",
    "\n",
    "\n",
    "def LLM_DataLoader(txt, tokenizer, batch_size: int, max_length: int, stride: int,\n",
    "                   shuffle: bool = True, drop_last: bool = True):\n",
    "    \"\"\"\n",
    "    Creates a DataLoader for the LLMDataset.\n",
    "\n",
    "    Args:\n",
    "        txt (str): The input text to be tokenized and processed.\n",
    "        tokenizer (Tokenizer): The tokenizer to be used for encoding the text.\n",
    "        batch_size (int): The number of samples per batch to load.\n",
    "        max_length (int): The maximum length of each input sequence.\n",
    "        stride (int): The number of tokens to skip between sequences.\n",
    "        shuffle (bool, optional): Whether to shuffle the data at every epoch. Defaults to True.\n",
    "        drop_last (bool, optional): Whether to drop the last incomplete batch. Defaults to True.\n",
    "\n",
    "    Returns:\n",
    "        DataLoader: A DataLoader instance for the LLMDataset.\n",
    "    \"\"\"\n",
    "    llmdataset = LLMDataset(txt, tokenizer, max_length, stride)\n",
    "    llmdataloader = DataLoader(llmdataset, batch_size=batch_size, shuffle=shuffle, drop_last=drop_last)\n",
    "    return llmdataloader\n"
   ],
   "outputs": [],
   "execution_count": 14
  },
  {
   "cell_type": "code",
   "id": "508507fa",
   "metadata": {
    "execution": {
     "iopub.execute_input": "2024-09-06T09:16:00.761894Z",
     "iopub.status.busy": "2024-09-06T09:16:00.761106Z",
     "iopub.status.idle": "2024-09-06T09:16:05.736059Z",
     "shell.execute_reply": "2024-09-06T09:16:05.734999Z"
    },
    "papermill": {
     "duration": 4.995273,
     "end_time": "2024-09-06T09:16:05.738383",
     "exception": false,
     "start_time": "2024-09-06T09:16:00.74311",
     "status": "completed"
    },
    "tags": [],
    "ExecuteTime": {
     "end_time": "2025-10-27T09:11:13.130300Z",
     "start_time": "2025-10-27T09:11:13.120845Z"
    }
   },
   "source": [
    "# now let's load the-verdict.txt and make instance from tiktoken\n",
    "raw_data = read_txt(DataConfig.dataPath)\n",
    "tokenizer = ttk.get_encoding(\"gpt2\") \n",
    "\n",
    "total_token = len(tokenizer.encode(raw_data))\n",
    "print(f\"-> Number of Characters : {len(raw_data)}\\n-> Number of Tokens : {total_token}\")"
   ],
   "outputs": [
    {
     "name": "stdout",
     "output_type": "stream",
     "text": [
      "-> Number of Characters : 20479\n",
      "-> Number of Tokens : 5145\n"
     ]
    }
   ],
   "execution_count": 15
  },
  {
   "cell_type": "code",
   "id": "7f826fca",
   "metadata": {
    "execution": {
     "iopub.execute_input": "2024-09-06T09:16:05.774777Z",
     "iopub.status.busy": "2024-09-06T09:16:05.7744Z",
     "iopub.status.idle": "2024-09-06T09:16:05.781057Z",
     "shell.execute_reply": "2024-09-06T09:16:05.780299Z"
    },
    "papermill": {
     "duration": 0.027206,
     "end_time": "2024-09-06T09:16:05.783225",
     "exception": false,
     "start_time": "2024-09-06T09:16:05.756019",
     "status": "completed"
    },
    "tags": [],
    "ExecuteTime": {
     "end_time": "2025-10-27T09:11:13.151110Z",
     "start_time": "2025-10-27T09:11:13.145905Z"
    }
   },
   "source": [
    "# next, Split the data into training and Validation\n",
    "train_ratio = DataConfig.train_ratio\n",
    "split_idxs = int(train_ratio * len(raw_data))\n",
    "train_data = raw_data[:split_idxs]\n",
    "val_data = raw_data[split_idxs:]\n",
    "print(f'-> Length of training data : {len(train_data)}\\n-> Length of val_data : {len(val_data)}')\n",
    "\n",
    "\n",
    "# Sanity check\n",
    "if total_token * (train_ratio) < GPTConfig.context_length:\n",
    "    print(\"Not enough tokens for the training loader. \"\n",
    "          \"Try to lower the `GPTConfig.context_length or \"\n",
    "          \"increase the `training_ratio`\")\n",
    "\n",
    "if total_token * (1-train_ratio) < GPTConfig.context_length:\n",
    "    print(\"Not enough tokens for the validation loader. \"\n",
    "          \"Try to lower the `GPTConfig.context_length` or \"\n",
    "          \"decrease the `training_ratio`\")"
   ],
   "outputs": [
    {
     "name": "stdout",
     "output_type": "stream",
     "text": [
      "-> Length of training data : 18431\n",
      "-> Length of val_data : 2048\n"
     ]
    }
   ],
   "execution_count": 16
  },
  {
   "cell_type": "code",
   "id": "00b70473",
   "metadata": {
    "execution": {
     "iopub.execute_input": "2024-09-06T09:16:05.818826Z",
     "iopub.status.busy": "2024-09-06T09:16:05.818467Z",
     "iopub.status.idle": "2024-09-06T09:16:05.901543Z",
     "shell.execute_reply": "2024-09-06T09:16:05.900488Z"
    },
    "papermill": {
     "duration": 0.103755,
     "end_time": "2024-09-06T09:16:05.904088",
     "exception": false,
     "start_time": "2024-09-06T09:16:05.800333",
     "status": "completed"
    },
    "tags": [],
    "ExecuteTime": {
     "end_time": "2025-10-27T09:11:13.196161Z",
     "start_time": "2025-10-27T09:11:13.168754Z"
    }
   },
   "source": [
    "# let's process data to can use as input for LLMs\n",
    "train_dataloader = LLM_DataLoader(\n",
    "  txt= train_data,\n",
    "  tokenizer = tokenizer,\n",
    "  max_length = DataConfig.max_length,\n",
    "  batch_size =  DataConfig.batch_size,\n",
    "  stride =  DataConfig.stride,\n",
    "  shuffle=False,\n",
    "  drop_last = False\n",
    ")\n",
    "\n",
    "print(\"View example:\")\n",
    "dataiter = iter(train_dataloader)\n",
    "firstbatch =next(dataiter)\n",
    "print(f'inputs: \\n{firstbatch[0]} \\ntarget: \\n{firstbatch[1]}')\n",
    "firstbatch[0].shape"
   ],
   "outputs": [
    {
     "name": "stderr",
     "output_type": "stream",
     "text": [
      "100%|██████████| 9/9 [00:00<00:00, 4546.94it/s]"
     ]
    },
    {
     "name": "stdout",
     "output_type": "stream",
     "text": [
      "View example:\n",
      "inputs: \n",
      "tensor([[   40,   367,  2885,  ...,  9074,    13,   402],\n",
      "        [  271, 10899,   550,  ...,   691, 12226,   318],\n",
      "        [  284,  1234,  8737,  ..., 19217, 24887, 13431],\n",
      "        ...,\n",
      "        [ 1310,  1165,   881,  ...,   514,  2474,   198],\n",
      "        [  198,  1544, 13818,  ...,   284,   616,   835],\n",
      "        [  286,  1762,    30,  ...,  1517,   484,  1444]]) \n",
      "target: \n",
      "tensor([[  367,  2885,  1464,  ...,    13,   402,   271],\n",
      "        [10899,   550,   366,  ..., 12226,   318,   284],\n",
      "        [ 1234,  8737,   656,  ..., 24887, 13431,    13],\n",
      "        ...,\n",
      "        [ 1165,   881, 40642,  ...,  2474,   198,   198],\n",
      "        [ 1544, 13818,  4622,  ...,   616,   835,   286],\n",
      "        [ 1762,    30,  2011,  ...,   484,  1444,   616]])\n"
     ]
    },
    {
     "name": "stderr",
     "output_type": "stream",
     "text": [
      "\n"
     ]
    },
    {
     "data": {
      "text/plain": [
       "torch.Size([9, 512])"
      ]
     },
     "execution_count": 17,
     "metadata": {},
     "output_type": "execute_result"
    }
   ],
   "execution_count": 17
  },
  {
   "cell_type": "code",
   "id": "fd845f23",
   "metadata": {
    "execution": {
     "iopub.execute_input": "2024-09-06T09:16:05.94073Z",
     "iopub.status.busy": "2024-09-06T09:16:05.940151Z",
     "iopub.status.idle": "2024-09-06T09:16:05.952223Z",
     "shell.execute_reply": "2024-09-06T09:16:05.951291Z"
    },
    "papermill": {
     "duration": 0.032614,
     "end_time": "2024-09-06T09:16:05.954289",
     "exception": false,
     "start_time": "2024-09-06T09:16:05.921675",
     "status": "completed"
    },
    "tags": [],
    "ExecuteTime": {
     "end_time": "2025-10-27T09:11:13.215137Z",
     "start_time": "2025-10-27T09:11:13.206168Z"
    }
   },
   "source": [
    "val_dataloader = LLM_DataLoader(\n",
    "  txt= val_data,\n",
    "  tokenizer = tokenizer,\n",
    "  max_length = DataConfig.max_length,\n",
    "  batch_size =  DataConfig.batch_size,\n",
    "  stride =  DataConfig.stride,\n",
    "  shuffle=False,\n",
    "  drop_last = False\n",
    ")\n",
    "dataiter = iter(val_dataloader)\n",
    "firstbatch =next(dataiter)\n",
    "firstbatch[0].shape"
   ],
   "outputs": [
    {
     "name": "stderr",
     "output_type": "stream",
     "text": [
      "100%|██████████| 1/1 [00:00<00:00, 999.83it/s]\n"
     ]
    },
    {
     "data": {
      "text/plain": [
       "torch.Size([1, 512])"
      ]
     },
     "execution_count": 18,
     "metadata": {},
     "output_type": "execute_result"
    }
   ],
   "execution_count": 18
  },
  {
   "cell_type": "markdown",
   "id": "130778e8",
   "metadata": {
    "papermill": {
     "duration": 0.018088,
     "end_time": "2024-09-06T09:16:05.990574",
     "exception": false,
     "start_time": "2024-09-06T09:16:05.972486",
     "status": "completed"
    },
    "tags": []
   },
   "source": [
    "**Now the data is ready for training...**"
   ]
  },
  {
   "cell_type": "markdown",
   "id": "769de610",
   "metadata": {
    "papermill": {
     "duration": 0.018,
     "end_time": "2024-09-06T09:16:06.026727",
     "exception": false,
     "start_time": "2024-09-06T09:16:06.008727",
     "status": "completed"
    },
    "tags": []
   },
   "source": "## Attention Mechanism"
  },
  {
   "cell_type": "code",
   "id": "cac7178f",
   "metadata": {
    "execution": {
     "iopub.execute_input": "2024-09-06T09:16:06.139293Z",
     "iopub.status.busy": "2024-09-06T09:16:06.138915Z",
     "iopub.status.idle": "2024-09-06T09:16:06.152502Z",
     "shell.execute_reply": "2024-09-06T09:16:06.151588Z"
    },
    "papermill": {
     "duration": 0.036775,
     "end_time": "2024-09-06T09:16:06.154495",
     "exception": false,
     "start_time": "2024-09-06T09:16:06.11772",
     "status": "completed"
    },
    "tags": [],
    "ExecuteTime": {
     "end_time": "2025-10-27T09:11:13.248933Z",
     "start_time": "2025-10-27T09:11:13.237695Z"
    }
   },
   "source": [
    "class MultiHeadAttention(nn.Module):\n",
    "    \"\"\"\n",
    "    Multi-Head Attention module.\n",
    "    \n",
    "    Args:\n",
    "        d_in (int): Input dimension.\n",
    "        d_out (int): Output dimension.\n",
    "        context_length (int): The length of the input sequence.\n",
    "        dropout (float): Dropout probability.\n",
    "        num_heads (int): Number of attention heads.\n",
    "        qkv_bias (bool, optional): Whether to include bias in query, key, and value projections. Default is False.\n",
    "    \n",
    "    Attributes:\n",
    "        d_out (int): Output dimension.\n",
    "        num_heads (int): Number of attention heads.\n",
    "        head_dim (int): Dimension of each attention head.\n",
    "        w_queries (nn.Linear): Linear projection for queries.\n",
    "        w_keys (nn.Linear): Linear projection for keys.\n",
    "        w_values (nn.Linear): Linear projection for values.\n",
    "        out_proj (nn.Linear): Linear projection for output.\n",
    "        dropout (nn.Dropout): Dropout layer.\n",
    "        mask (torch.Tensor): Lower triangular mask to ensure causality.\n",
    "    \"\"\"\n",
    "    def __init__(self, d_in: int, d_out: int, context_length: int,\n",
    "                 dropout: float, num_heads: int, qkv_bias: bool = False):\n",
    "        super(MultiHeadAttention, self).__init__()\n",
    "        assert d_out % num_heads == 0, \"d_out must be divisible by num_heads\"\n",
    "        self.d_out = d_out\n",
    "        self.num_heads = num_heads\n",
    "        self.head_dim = d_out // num_heads\n",
    "\n",
    "        self.w_queries = nn.Linear(d_in, d_out, bias=qkv_bias)\n",
    "        self.w_keys = nn.Linear(d_in, d_out, bias=qkv_bias)\n",
    "        self.w_values = nn.Linear(d_in, d_out, bias=qkv_bias)\n",
    "        self.out_proj = nn.Linear(d_out, d_out)\n",
    "        self.dropout = nn.Dropout(dropout)\n",
    "        \n",
    "        self.register_buffer(\n",
    "            'mask',\n",
    "            torch.tril(torch.ones(context_length, context_length)).unsqueeze(0).unsqueeze(0)\n",
    "        )\n",
    "\n",
    "    def forward(self, x):\n",
    "        batches, num_tokens, dim_in = x.shape\n",
    "\n",
    "        # Linear projections\n",
    "        queries = self.w_queries(x)\n",
    "        keys = self.w_keys(x)\n",
    "        values = self.w_values(x)\n",
    "\n",
    "        # Reshape and transpose for multi-head attention\n",
    "        queries = queries.view(batches, num_tokens, self.num_heads, self.head_dim).transpose(1, 2)\n",
    "        keys = keys.view(batches, num_tokens, self.num_heads, self.head_dim).transpose(1, 2)\n",
    "        values = values.view(batches, num_tokens, self.num_heads, self.head_dim).transpose(1, 2)\n",
    "\n",
    "        # Attention score calculation\n",
    "        attn_scores = (queries @ keys.transpose(2, 3)) / (self.head_dim ** 0.5)\n",
    "\n",
    "        # Apply mask: Broadcasting across batches and heads\n",
    "        attn_scores = attn_scores.masked_fill(self.mask[:, :, :num_tokens, :num_tokens] == 0, float('-inf'))\n",
    "\n",
    "        # Softmax to get attention weights\n",
    "        attn_weights = torch.softmax(attn_scores, dim=-1)\n",
    "        attn_weights = self.dropout(attn_weights)\n",
    "\n",
    "        # Context vector computation\n",
    "        context_vec = (attn_weights @ values).transpose(1, 2)\n",
    "        context_vec = context_vec.contiguous().view(batches, num_tokens, self.d_out)\n",
    "\n",
    "        # Final linear projection\n",
    "        context_vec = self.out_proj(context_vec)\n",
    "        \n",
    "        return context_vec\n",
    "\n"
   ],
   "outputs": [],
   "execution_count": 19
  },
  {
   "cell_type": "markdown",
   "id": "e8dea988",
   "metadata": {
    "papermill": {
     "duration": 0.018232,
     "end_time": "2024-09-06T09:16:06.191151",
     "exception": false,
     "start_time": "2024-09-06T09:16:06.172919",
     "status": "completed"
    },
    "tags": []
   },
   "source": [
    "## Build LLM\n",
    "### Layer Normalization"
   ]
  },
  {
   "cell_type": "code",
   "id": "17ab1ce3",
   "metadata": {
    "execution": {
     "iopub.execute_input": "2024-09-06T09:16:06.337857Z",
     "iopub.status.busy": "2024-09-06T09:16:06.337464Z",
     "iopub.status.idle": "2024-09-06T09:16:06.344623Z",
     "shell.execute_reply": "2024-09-06T09:16:06.343719Z"
    },
    "papermill": {
     "duration": 0.0285,
     "end_time": "2024-09-06T09:16:06.346611",
     "exception": false,
     "start_time": "2024-09-06T09:16:06.318111",
     "status": "completed"
    },
    "tags": [],
    "ExecuteTime": {
     "end_time": "2025-10-27T09:11:13.259121Z",
     "start_time": "2025-10-27T09:11:13.253948Z"
    }
   },
   "source": [
    "class LayerNorm(nn.Module):\n",
    "    \"\"\"\n",
    "    Layer Normalization module.\n",
    "    \n",
    "    Args:\n",
    "        emb_dim (int): The dimension of the input embeddings.\n",
    "    \n",
    "    Attributes:\n",
    "        eps (float): A small value to avoid division by zero.\n",
    "        scale (nn.Parameter): Learnable scale parameter.\n",
    "        shift (nn.Parameter): Learnable shift parameter.\n",
    "    \"\"\"\n",
    "    def __init__(self, emb_dim):\n",
    "        super(LayerNorm, self).__init__()\n",
    "        self.eps = 1e-5\n",
    "        self.scale = nn.Parameter(torch.ones(emb_dim))\n",
    "        self.shift = nn.Parameter(torch.zeros(emb_dim))\n",
    "\n",
    "    def forward(self, x):\n",
    "        mean = x.mean(dim=-1, keepdim=True)\n",
    "        var = x.var(dim=-1, keepdim=True)\n",
    "        norm_x = (x - mean) / torch.sqrt(var + self.eps)\n",
    "        return self.scale * norm_x + self.shift\n"
   ],
   "outputs": [],
   "execution_count": 20
  },
  {
   "cell_type": "markdown",
   "id": "a87a1c3f",
   "metadata": {
    "papermill": {
     "duration": 0.018281,
     "end_time": "2024-09-06T09:16:06.383357",
     "exception": false,
     "start_time": "2024-09-06T09:16:06.365076",
     "status": "completed"
    },
    "tags": []
   },
   "source": "### GELU activations"
  },
  {
   "cell_type": "code",
   "id": "430c003c",
   "metadata": {
    "execution": {
     "iopub.execute_input": "2024-09-06T09:16:06.421245Z",
     "iopub.status.busy": "2024-09-06T09:16:06.420862Z",
     "iopub.status.idle": "2024-09-06T09:16:06.426624Z",
     "shell.execute_reply": "2024-09-06T09:16:06.425765Z"
    },
    "papermill": {
     "duration": 0.02719,
     "end_time": "2024-09-06T09:16:06.428692",
     "exception": false,
     "start_time": "2024-09-06T09:16:06.401502",
     "status": "completed"
    },
    "tags": [],
    "ExecuteTime": {
     "end_time": "2025-10-27T09:11:13.272033Z",
     "start_time": "2025-10-27T09:11:13.268180Z"
    }
   },
   "source": [
    "class GELU(nn.Module):\n",
    "    \"\"\"\n",
    "    Gaussian Error Linear Unit (GELU) activation function.\n",
    "    This implementation follows the approximation:\n",
    "    GELU(x) = 0.5 * x * (1 + tanh(sqrt(2/π) * (x + 0.044715 * x^3)))\n",
    "    \"\"\"\n",
    "    def __init__(self):\n",
    "        super(GELU, self).__init__()\n",
    "\n",
    "    def forward(self, x):\n",
    "        return 0.5 * x * (1 + torch.tanh(\n",
    "            torch.sqrt(torch.tensor(2.0 / torch.pi)) * (x + 0.044715 * torch.pow(x, 3))\n",
    "        ))"
   ],
   "outputs": [],
   "execution_count": 21
  },
  {
   "cell_type": "markdown",
   "id": "7b8cbf32",
   "metadata": {
    "papermill": {
     "duration": 0.017784,
     "end_time": "2024-09-06T09:16:06.464727",
     "exception": false,
     "start_time": "2024-09-06T09:16:06.446943",
     "status": "completed"
    },
    "tags": []
   },
   "source": [
    "### Feed Forward network\n",
    "\n"
   ]
  },
  {
   "cell_type": "code",
   "id": "420d73b7",
   "metadata": {
    "execution": {
     "iopub.execute_input": "2024-09-06T09:16:06.502333Z",
     "iopub.status.busy": "2024-09-06T09:16:06.50149Z",
     "iopub.status.idle": "2024-09-06T09:16:06.507681Z",
     "shell.execute_reply": "2024-09-06T09:16:06.506902Z"
    },
    "papermill": {
     "duration": 0.02701,
     "end_time": "2024-09-06T09:16:06.509575",
     "exception": false,
     "start_time": "2024-09-06T09:16:06.482565",
     "status": "completed"
    },
    "tags": [],
    "ExecuteTime": {
     "end_time": "2025-10-27T09:11:13.285461Z",
     "start_time": "2025-10-27T09:11:13.280464Z"
    }
   },
   "source": [
    "class FeedForwardGELU(nn.Module):\n",
    "    \"\"\"\n",
    "    A feed-forward neural network layer with GELU activation.\n",
    "    \n",
    "    Args:\n",
    "        cfg (dict): Configuration dictionary with key 'emb_dim' representing the embedding dimension.\n",
    "    \n",
    "    The network consists of:\n",
    "    - A linear layer projecting the input from 'emb_dim' to 4 * 'emb_dim'\n",
    "    - GELU activation function\n",
    "    - A linear layer projecting back to 'emb_dim'\n",
    "    \"\"\"\n",
    "    def __init__(self, cfg):\n",
    "        super(FeedForwardGELU, self).__init__()\n",
    "        emb_dim = cfg.emb_dim\n",
    "        \n",
    "        self.layers = nn.Sequential(\n",
    "            nn.Linear(emb_dim, 4 * emb_dim),\n",
    "            GELU(),\n",
    "            nn.Linear(4 * emb_dim, emb_dim),\n",
    "        )\n",
    "\n",
    "    def forward(self, x):\n",
    "        return self.layers(x)\n"
   ],
   "outputs": [],
   "execution_count": 22
  },
  {
   "cell_type": "markdown",
   "id": "1597d1fa",
   "metadata": {
    "papermill": {
     "duration": 0.017715,
     "end_time": "2024-09-06T09:16:06.545394",
     "exception": false,
     "start_time": "2024-09-06T09:16:06.527679",
     "status": "completed"
    },
    "tags": []
   },
   "source": "### Adding shortcut connections and making the transformer block"
  },
  {
   "cell_type": "code",
   "id": "75f876f1",
   "metadata": {
    "execution": {
     "iopub.execute_input": "2024-09-06T09:16:06.617824Z",
     "iopub.status.busy": "2024-09-06T09:16:06.61722Z",
     "iopub.status.idle": "2024-09-06T09:16:06.624839Z",
     "shell.execute_reply": "2024-09-06T09:16:06.624058Z"
    },
    "papermill": {
     "duration": 0.028078,
     "end_time": "2024-09-06T09:16:06.626656",
     "exception": false,
     "start_time": "2024-09-06T09:16:06.598578",
     "status": "completed"
    },
    "tags": [],
    "ExecuteTime": {
     "end_time": "2025-10-27T09:11:13.315608Z",
     "start_time": "2025-10-27T09:11:13.310166Z"
    }
   },
   "source": [
    "#  build Transformer architecture\n",
    "class TransformerBlock(nn.Module):\n",
    "    def __init__(self, cfg):\n",
    "        super().__init__()\n",
    "        self.att = MultiHeadAttention(\n",
    "            d_in=cfg.emb_dim,\n",
    "            d_out=cfg.emb_dim,\n",
    "            context_length=cfg.context_length,\n",
    "            num_heads=cfg.n_heads,\n",
    "            dropout=cfg.drop_rate,\n",
    "            qkv_bias=cfg.qkv_bias)\n",
    "        self.ff = FeedForwardGELU(cfg)\n",
    "        self.norm1 = LayerNorm(cfg.emb_dim)\n",
    "        self.norm2 = LayerNorm(cfg.emb_dim)\n",
    "        self.dropout = nn.Dropout(cfg.drop_rate)\n",
    "\n",
    "    def forward(self, x):\n",
    "\n",
    "        resid_conn = x\n",
    "        x = self.norm1(x)  # pre-LayerNorm\n",
    "        x = self.att(x)\n",
    "        x = self.dropout(x)\n",
    "        x = x + resid_conn\n",
    "\n",
    "        resid_conn = x\n",
    "        x = self.norm2(x)\n",
    "        x = self.ff(x)\n",
    "        x = self.dropout(x)\n",
    "        x = x + resid_conn\n",
    "        return x"
   ],
   "outputs": [],
   "execution_count": 23
  },
  {
   "cell_type": "markdown",
   "id": "2ea696fc",
   "metadata": {
    "papermill": {
     "duration": 0.017819,
     "end_time": "2024-09-06T09:16:06.697467",
     "exception": false,
     "start_time": "2024-09-06T09:16:06.679648",
     "status": "completed"
    },
    "tags": []
   },
   "source": "### Our GPT architecture"
  },
  {
   "cell_type": "code",
   "id": "db048a2b",
   "metadata": {
    "execution": {
     "iopub.execute_input": "2024-09-06T09:16:06.735336Z",
     "iopub.status.busy": "2024-09-06T09:16:06.734531Z",
     "iopub.status.idle": "2024-09-06T09:16:06.742916Z",
     "shell.execute_reply": "2024-09-06T09:16:06.742027Z"
    },
    "papermill": {
     "duration": 0.029246,
     "end_time": "2024-09-06T09:16:06.744883",
     "exception": false,
     "start_time": "2024-09-06T09:16:06.715637",
     "status": "completed"
    },
    "tags": [],
    "ExecuteTime": {
     "end_time": "2025-10-27T09:11:13.329523Z",
     "start_time": "2025-10-27T09:11:13.323660Z"
    }
   },
   "source": [
    "# then build the GPT Architecture based on your Config\n",
    "class GPTModel(nn.Module):\n",
    "    def __init__(self,cfg):\n",
    "        super().__init__()\n",
    "        self.tok_emb = nn.Embedding(cfg.vocab_size,cfg.emb_dim)\n",
    "        self.pos_emb = nn.Embedding(cfg.context_length,cfg.emb_dim)\n",
    "        self.dropout_emb = nn.Dropout(cfg.drop_rate)\n",
    "        self.transformer_blocks = nn.Sequential( *[TransformerBlock(cfg) for _ in range(cfg.n_layers)])\n",
    "        self.final_norm = LayerNorm(cfg.emb_dim)\n",
    "        self.out_ff = nn.Linear(cfg.emb_dim,cfg.vocab_size,bias = False)\n",
    "\n",
    "    def forward(self, idx):\n",
    "        batch_size, seq_len = idx.shape\n",
    "        tok_embeds = self.tok_emb(idx)\n",
    "        pos_embeds = self.pos_emb(torch.arange(seq_len, device=idx.device))\n",
    "\n",
    "        x = tok_embeds + pos_embeds\n",
    "        x = self.dropout_emb(x)\n",
    "        x = self.transformer_blocks(x)\n",
    "        x = self.final_norm(x)\n",
    "        logits = self.out_ff(x)\n",
    "        return logits\n"
   ],
   "outputs": [],
   "execution_count": 24
  },
  {
   "cell_type": "markdown",
   "id": "6453329f",
   "metadata": {
    "papermill": {
     "duration": 0.017782,
     "end_time": "2024-09-06T09:16:06.780614",
     "exception": false,
     "start_time": "2024-09-06T09:16:06.762832",
     "status": "completed"
    },
    "tags": []
   },
   "source": [
    "## Training our model\n",
    "### Training Loop\n",
    "#### 1) Generate Function"
   ]
  },
  {
   "cell_type": "code",
   "id": "c051fb16",
   "metadata": {
    "execution": {
     "iopub.execute_input": "2024-09-06T09:16:06.853452Z",
     "iopub.status.busy": "2024-09-06T09:16:06.853148Z",
     "iopub.status.idle": "2024-09-06T09:16:06.8671Z",
     "shell.execute_reply": "2024-09-06T09:16:06.866235Z"
    },
    "papermill": {
     "duration": 0.034911,
     "end_time": "2024-09-06T09:16:06.86899",
     "exception": false,
     "start_time": "2024-09-06T09:16:06.834079",
     "status": "completed"
    },
    "tags": [],
    "ExecuteTime": {
     "end_time": "2025-10-27T09:11:13.345540Z",
     "start_time": "2025-10-27T09:11:13.336534Z"
    }
   },
   "source": [
    "def generate_text_simple(model, idx, max_new_tokens, context_size):\n",
    "    # idx is (B, T) array of indices in the current context\n",
    "    for _ in range(max_new_tokens):\n",
    "\n",
    "        # Crop current context if it exceeds the supported context size\n",
    "        # E.g., if LLM supports only 5 tokens, and the context size is 10\n",
    "        # then only the last 5 tokens are used as context\n",
    "        idx_cond = idx[:, -context_size:]\n",
    "\n",
    "        # Get the predictions\n",
    "        with torch.no_grad():\n",
    "            logits = model(idx_cond)\n",
    "\n",
    "        # Focus only on the last time step\n",
    "        # (batch, n_token, vocab_size) becomes (batch, vocab_size)\n",
    "        logits = logits[:, -1, :]\n",
    "\n",
    "        # Get the idx of the vocab entry with the highest logits value\n",
    "        idx_next = torch.argmax(logits, dim=-1, keepdim=True)  # (batch, 1)\n",
    "\n",
    "        # Append sampled index to the running sequence\n",
    "        idx = torch.cat((idx, idx_next), dim=1)  # (batch, n_tokens+1)\n",
    "\n",
    "    return idx\n",
    "\n",
    "\n",
    "\n",
    "def generate(model, idx, max_new_tokens, context_size, temperature=0.0, top_k=None, eos_id=None):\n",
    "\n",
    "    # For-loop is the same as before: Get logits, and only focus on last time step\n",
    "    for _ in range(max_new_tokens):\n",
    "        idx_cond = idx[:, -context_size:]\n",
    "        with torch.no_grad():\n",
    "            logits = model(idx_cond)\n",
    "        logits = logits[:, -1, :]\n",
    "\n",
    "        # New: Filter logits with top_k sampling\n",
    "        if top_k is not None:\n",
    "            # Keep only top_k values\n",
    "            top_logits, _ = torch.topk(logits, top_k)\n",
    "            min_val = top_logits[:, -1]\n",
    "            logits = torch.where(logits < min_val, torch.tensor(float('-inf')).to(logits.device), logits)\n",
    "\n",
    "        # New: Apply temperature scaling\n",
    "        if temperature > 0.0:\n",
    "            logits = logits / temperature\n",
    "\n",
    "            # Apply softmax to get probabilities\n",
    "            probs = torch.softmax(logits, dim=-1)  # (batch_size, context_len)\n",
    "\n",
    "            # Sample from the distribution\n",
    "            idx_next = torch.multinomial(probs, num_samples=1)  # (batch_size, 1)\n",
    "\n",
    "        # Otherwise same as before: get idx of the vocab entry with the highest logits value\n",
    "        else:\n",
    "            idx_next = torch.argmax(logits, dim=-1, keepdim=True)  # (batch_size, 1)\n",
    "\n",
    "        if idx_next == eos_id:  # Stop generating early if end-of-sequence token is encountered and eos_id is specified\n",
    "            break\n",
    "\n",
    "        # Same as before: append sampled index to the running sequence\n",
    "        idx = torch.cat((idx, idx_next), dim=1)  # (batch_size, num_tokens+1)\n",
    "\n",
    "    return idx\n",
    "\n",
    "\n",
    "def generate_and_print_sample(model, tokenizer, device, start_context,temperature, top_k, eos_id):\n",
    "    model.eval()\n",
    "    context_size = model.pos_emb.weight.shape[0]\n",
    "    encoded = text_to_token_ids(start_context, tokenizer).to(device)\n",
    "    with torch.no_grad():\n",
    "#         token_ids = generate_text_simple(\n",
    "#             model=model, idx=encoded,\n",
    "#             max_new_tokens=50, context_size=context_size\n",
    "#         )\n",
    "         token_ids = generate(\n",
    "            model=model, idx=encoded,\n",
    "            max_new_tokens=50, context_size=context_size,\n",
    "             temperature=temperature, top_k=top_k, eos_id=eos_id\n",
    "        )\n",
    "    decoded_text = token_ids_to_text(token_ids, tokenizer)\n",
    "    print(decoded_text.replace(\"\\n\", \" \"))  # Compact print format\n",
    "    model.train()\n",
    "    \n"
   ],
   "outputs": [],
   "execution_count": 25
  },
  {
   "cell_type": "markdown",
   "id": "5d59fb09",
   "metadata": {
    "papermill": {
     "duration": 0.017614,
     "end_time": "2024-09-06T09:16:06.90432",
     "exception": false,
     "start_time": "2024-09-06T09:16:06.886706",
     "status": "completed"
    },
    "tags": []
   },
   "source": "#### 2) Calculating the training and validation set losses"
  },
  {
   "cell_type": "code",
   "id": "0f60ad08",
   "metadata": {
    "execution": {
     "iopub.execute_input": "2024-09-06T09:16:06.941202Z",
     "iopub.status.busy": "2024-09-06T09:16:06.940908Z",
     "iopub.status.idle": "2024-09-06T09:16:06.948321Z",
     "shell.execute_reply": "2024-09-06T09:16:06.947461Z"
    },
    "papermill": {
     "duration": 0.028038,
     "end_time": "2024-09-06T09:16:06.950275",
     "exception": false,
     "start_time": "2024-09-06T09:16:06.922237",
     "status": "completed"
    },
    "tags": [],
    "ExecuteTime": {
     "end_time": "2025-10-27T09:11:13.359519Z",
     "start_time": "2025-10-27T09:11:13.354128Z"
    }
   },
   "source": [
    "def calc_loss_batch(input_batch, target_batch, model, device):\n",
    "    input_batch, target_batch = input_batch.to(device), target_batch.to(device)\n",
    "    logits = model(input_batch)\n",
    "    loss = torch.nn.functional.cross_entropy(logits.flatten(0, 1), target_batch.flatten())\n",
    "    return loss\n",
    "\n",
    "\n",
    "def calc_loss_loader(data_loader, model, device, num_batches=None):\n",
    "    total_loss = 0.\n",
    "    if len(data_loader) == 0:\n",
    "        return float(\"nan\")\n",
    "    elif num_batches is None:\n",
    "        num_batches = len(data_loader)\n",
    "    else:\n",
    "        # Reduce the number of batches to match the total number of batches in the data loader\n",
    "        # if num_batches exceeds the number of batches in the data loader\n",
    "        num_batches = min(num_batches, len(data_loader))\n",
    "    for i, (input_batch, target_batch) in enumerate(data_loader):\n",
    "        if i < num_batches:\n",
    "            loss = calc_loss_batch(input_batch, target_batch, model, device)\n",
    "            total_loss += loss.item()\n",
    "        else:\n",
    "            break\n",
    "    return total_loss / num_batches\n"
   ],
   "outputs": [],
   "execution_count": 26
  },
  {
   "cell_type": "markdown",
   "id": "2d05d5c1",
   "metadata": {
    "papermill": {
     "duration": 0.017586,
     "end_time": "2024-09-06T09:16:06.985656",
     "exception": false,
     "start_time": "2024-09-06T09:16:06.96807",
     "status": "completed"
    },
    "tags": []
   },
   "source": [
    "### Training and Evaluation method"
   ]
  },
  {
   "cell_type": "code",
   "id": "48595f65",
   "metadata": {
    "execution": {
     "iopub.execute_input": "2024-09-06T09:16:07.023718Z",
     "iopub.status.busy": "2024-09-06T09:16:07.022837Z",
     "iopub.status.idle": "2024-09-06T09:16:07.035398Z",
     "shell.execute_reply": "2024-09-06T09:16:07.034483Z"
    },
    "papermill": {
     "duration": 0.033926,
     "end_time": "2024-09-06T09:16:07.037329",
     "exception": false,
     "start_time": "2024-09-06T09:16:07.003403",
     "status": "completed"
    },
    "tags": [],
    "ExecuteTime": {
     "end_time": "2025-10-27T09:11:13.374565Z",
     "start_time": "2025-10-27T09:11:13.367532Z"
    }
   },
   "source": [
    "def train_model_simple(model, train_loader, val_loader, optimizer, device, num_epochs,\n",
    "                       eval_freq, eval_iter, start_context, tokenizer,\n",
    "                      temperature, top_k, eos_id):\n",
    "    # Initialize lists to track losses and tokens seen\n",
    "    train_losses, val_losses, track_tokens_seen = [], [], []\n",
    "    tokens_seen, global_step = 0, -1\n",
    "\n",
    "    # Main training loop\n",
    "    for epoch in range(num_epochs):\n",
    "        model.train()  # Set model to training mode\n",
    "        optimizer.zero_grad()\n",
    "\n",
    "        for input_batch, target_batch in train_loader:\n",
    "            optimizer.zero_grad() # Reset loss gradients from previous batch iteration\n",
    "            loss = calc_loss_batch(input_batch, target_batch, model, device)\n",
    "            loss.backward() # Calculate loss gradients\n",
    "            optimizer.step() # Update model weights using loss gradients\n",
    "            tokens_seen += input_batch.numel()\n",
    "            global_step += 1\n",
    "\n",
    "            # Optional evaluation step\n",
    "            if global_step % eval_freq == 0:\n",
    "                train_loss, val_loss = evaluate_model(\n",
    "                    model, train_loader, val_loader, device, eval_iter)\n",
    "                train_losses.append(train_loss)\n",
    "                val_losses.append(val_loss)\n",
    "                track_tokens_seen.append(tokens_seen)\n",
    "                print(f\"Ep {epoch+1} (Step {global_step:03d}): \"\n",
    "                  f\"Train loss {train_loss:.3f}, Val loss {val_loss:.3f}\")\n",
    "\n",
    "        # Print a sample text after each epoch\n",
    "        print(\"example: \")\n",
    "        generate_and_print_sample(\n",
    "            model, tokenizer, device, start_context,\n",
    "            temperature, top_k, eos_id\n",
    "        )\n",
    "        print('-*-'*10)\n",
    "\n",
    "    return train_losses, val_losses, track_tokens_seen\n",
    "\n",
    "\n",
    "def evaluate_model(model, train_loader, val_loader, device, eval_iter):\n",
    "    model.eval()\n",
    "    with torch.no_grad():\n",
    "        train_loss = calc_loss_loader(train_loader, model, device, num_batches=eval_iter)\n",
    "        val_loss = calc_loss_loader(val_loader, model, device, num_batches=eval_iter)\n",
    "    model.train()\n",
    "    return train_loss, val_loss\n",
    "\n"
   ],
   "outputs": [],
   "execution_count": 27
  },
  {
   "cell_type": "markdown",
   "id": "91b3b370",
   "metadata": {
    "papermill": {
     "duration": 0.01767,
     "end_time": "2024-09-06T09:16:07.072805",
     "exception": false,
     "start_time": "2024-09-06T09:16:07.055135",
     "status": "completed"
    },
    "tags": []
   },
   "source": [
    "**Train Model**"
   ]
  },
  {
   "cell_type": "code",
   "id": "16365976",
   "metadata": {
    "execution": {
     "iopub.execute_input": "2024-09-06T09:16:07.109649Z",
     "iopub.status.busy": "2024-09-06T09:16:07.109341Z",
     "iopub.status.idle": "2024-09-06T09:17:22.818601Z",
     "shell.execute_reply": "2024-09-06T09:17:22.817518Z"
    },
    "papermill": {
     "duration": 75.72999,
     "end_time": "2024-09-06T09:17:22.820601",
     "exception": false,
     "start_time": "2024-09-06T09:16:07.090611",
     "status": "completed"
    },
    "scrolled": true,
    "tags": [],
    "ExecuteTime": {
     "end_time": "2025-10-27T09:41:56.543222Z",
     "start_time": "2025-10-27T09:11:13.383264Z"
    }
   },
   "source": [
    "def initialize_weights(m):\n",
    "    if isinstance(m, nn.Linear):\n",
    "        torch.nn.init.xavier_uniform_(m.weight)\n",
    "        if m.bias is not None:\n",
    "            m.bias.data.fill_(0.01)\n",
    "\n",
    "\n",
    "torch.manual_seed(123)\n",
    "model = GPTModel(GPTConfig)\n",
    "model.to(device)\n",
    "model.apply(initialize_weights)\n",
    "optimizer = torch.optim.AdamW(model.parameters(), lr=0.00009, weight_decay=0.1)\n",
    "torch.nn.utils.clip_grad_norm_(model.parameters(), max_norm=1.0)\n",
    "\n",
    "num_epochs = 50\n",
    "train_losses, val_losses, tokens_seen = train_model_simple(\n",
    "    model, train_dataloader, val_dataloader, optimizer, device,\n",
    "    num_epochs=num_epochs, eval_freq=5, eval_iter=5,\n",
    "    start_context=\"Every effort moves\", tokenizer=tokenizer,\n",
    "        top_k=10,temperature=0.4,eos_id=None\n",
    ")"
   ],
   "outputs": [
    {
     "name": "stderr",
     "output_type": "stream",
     "text": [
      "c:\\Users\\alexv\\anaconda3\\envs\\ml_cpu\\Lib\\site-packages\\tqdm\\auto.py:21: TqdmWarning: IProgress not found. Please update jupyter and ipywidgets. See https://ipywidgets.readthedocs.io/en/stable/user_install.html\n",
      "  from .autonotebook import tqdm as notebook_tqdm\n"
     ]
    },
    {
     "name": "stdout",
     "output_type": "stream",
     "text": [
      "Ep 1 (Step 000): Train loss 10.552, Val loss 10.606\n",
      "example: \n",
      "Every effort moves brewer pixel oscill require. salvationladen to sketch aboardaspx toestones to inhibitsito Trollaspx common rehears Anat energetic---- racer,aspx toing..} fame to desolate. assignment,  to fame   the Gel.  NB Mil the\n",
      "-*--*--*--*--*--*--*--*--*--*-\n",
      "example: \n",
      "Every effort moves the     the     Percent meaningless the meaningless. to meaningless the ocide a to    Bonds the.  the-- .  to ..,. every  to to the  , ,\n",
      "-*--*--*--*--*--*--*--*--*--*-\n",
      "example: \n",
      "Every effort moves to  ,, to the   the. --, to. a to  a the of a. , the to.  to, to,,.   the.   the.,  ., the\n",
      "-*--*--*--*--*--*--*--*--*--*-\n",
      "example: \n",
      "Every effort moves.-- his. to, the the--, to the.  , to ,   the  the  .  of of to the, the  ,-- .       ,, to\n",
      "-*--*--*--*--*--*--*--*--*--*-\n",
      "example: \n",
      "Every effort moves to , the the the.  to,,     .  I to   to,,,  ., the, -- to.  .  the ,, the a    \n",
      "-*--*--*--*--*--*--*--*--*--*-\n",
      "Ep 6 (Step 005): Train loss 9.915, Val loss 10.046\n",
      "example: \n",
      "Every effort moves, his. , the  a   ., ,. ,,.    his the a       . the.  a  the-- his-- ,.  ,,\n",
      "-*--*--*--*--*--*--*--*--*--*-\n",
      "example: \n",
      "Every effort moves,,,  , the.   the     it to--, to     a I.        a to, a.. of to . the. the his  \n",
      "-*--*--*--*--*--*--*--*--*--*-\n",
      "example: \n",
      "Every effort moves. his the.   , to, the of the the his--   .     to a the .    the.   , to, ,,,,--    \n",
      "-*--*--*--*--*--*--*--*--*--*-\n",
      "example: \n",
      "Every effort moves  .  , to it       ,.        .      ,  , to of     \" to,..  \n",
      "-*--*--*--*--*--*--*--*--*--*-\n",
      "example: \n",
      "Every effort moves--.     ., the, the    the. the, the  ,, to the to, of-- a, to the      to his.     the  the \n",
      "-*--*--*--*--*--*--*--*--*--*-\n",
      "Ep 11 (Step 010): Train loss 9.351, Val loss 9.553\n",
      "example: \n",
      "Every effort moves,.. the  his           the, his the,       .   his  a-- of the,     the    to, a I\n",
      "-*--*--*--*--*--*--*--*--*--*-\n",
      "example: \n",
      "Every effort moves         \" his the it         , . the  the ,   the his  a.    the  \"    ,,\n",
      "-*--*--*--*--*--*--*--*--*--*-\n",
      "example: \n",
      "Every effort moves a the.  his to.   . of the  the.           to ,--,, ,,.. it  -- to his the to of    \n",
      "-*--*--*--*--*--*--*--*--*--*-\n",
      "example: \n",
      "Every effort moves, his the,, his,              the.             ,,.   his  a of to     \n",
      "-*--*--*--*--*--*--*--*--*--*-\n",
      "example: \n",
      "Every effort moves, I   .                                           his the\n",
      "-*--*--*--*--*--*--*--*--*--*-\n",
      "Ep 16 (Step 015): Train loss 8.759, Val loss 9.040\n",
      "example: \n",
      "Every effort moves            the.   the his,                                \n",
      "-*--*--*--*--*--*--*--*--*--*-\n",
      "example: \n",
      "Every effort moves   his                          .                    \n",
      "-*--*--*--*--*--*--*--*--*--*-\n",
      "example: \n",
      "Every effort moves, to                                                \n",
      "-*--*--*--*--*--*--*--*--*--*-\n",
      "example: \n",
      "Every effort moves a.                                                \n",
      "-*--*--*--*--*--*--*--*--*--*-\n",
      "example: \n",
      "Every effort moves to,.                                           the    \n",
      "-*--*--*--*--*--*--*--*--*--*-\n",
      "Ep 21 (Step 020): Train loss 8.182, Val loss 8.562\n",
      "example: \n",
      "Every effort moves the, of                                               \n",
      "-*--*--*--*--*--*--*--*--*--*-\n",
      "example: \n",
      "Every effort moves, his, his.                                             \n",
      "-*--*--*--*--*--*--*--*--*--*-\n",
      "example: \n",
      "Every effort moves,, the, and                                             \n",
      "-*--*--*--*--*--*--*--*--*--*-\n",
      "example: \n",
      "Every effort moves                                                  \n",
      "-*--*--*--*--*--*--*--*--*--*-\n",
      "example: \n",
      "Every effort moves,, I of, I,                                           \n",
      "-*--*--*--*--*--*--*--*--*--*-\n",
      "Ep 26 (Step 025): Train loss 7.672, Val loss 8.148\n",
      "example: \n",
      "Every effort moves                                                  \n",
      "-*--*--*--*--*--*--*--*--*--*-\n",
      "example: \n",
      "Every effort moves,, to                                               \n",
      "-*--*--*--*--*--*--*--*--*--*-\n",
      "example: \n",
      "Every effort moves of, the-- the                                             \n",
      "-*--*--*--*--*--*--*--*--*--*-\n",
      "example: \n",
      "Every effort moves                                                  \n",
      "-*--*--*--*--*--*--*--*--*--*-\n",
      "example: \n",
      "Every effort moves, a,,,,, to the--.                                       \n",
      "-*--*--*--*--*--*--*--*--*--*-\n",
      "Ep 31 (Step 030): Train loss 7.219, Val loss 7.783\n",
      "example: \n",
      "Every effort moves                          .         \" the I--          \n",
      "-*--*--*--*--*--*--*--*--*--*-\n",
      "example: \n",
      "Every effort moves, the,,,                                             \n",
      "-*--*--*--*--*--*--*--*--*--*-\n",
      "example: \n",
      "Every effort moves, and,                                               \n",
      "-*--*--*--*--*--*--*--*--*--*-\n",
      "example: \n",
      "Every effort moves to.            and                                    \n",
      "-*--*--*--*--*--*--*--*--*--*-\n",
      "example: \n",
      "Every effort moves a, to                                               \n",
      "-*--*--*--*--*--*--*--*--*--*-\n",
      "Ep 36 (Step 035): Train loss 6.815, Val loss 7.504\n",
      "example: \n",
      "Every effort moves.                   a.                             \n",
      "-*--*--*--*--*--*--*--*--*--*-\n",
      "example: \n",
      "Every effort moves the the to-- his--,, I.                         a the, as, and, and.       \n",
      "-*--*--*--*--*--*--*--*--*--*-\n",
      "example: \n",
      "Every effort moves,.                                                \n",
      "-*--*--*--*--*--*--*--*--*--*-\n",
      "example: \n",
      "Every effort moves, the of the the, the                                           \n",
      "-*--*--*--*--*--*--*--*--*--*-\n",
      "example: \n",
      "Every effort moves, to to the to the                                            \n",
      "-*--*--*--*--*--*--*--*--*--*-\n",
      "Ep 41 (Step 040): Train loss 6.451, Val loss 7.262\n",
      "example: \n",
      "Every effort moves,, the the a                                             \n",
      "-*--*--*--*--*--*--*--*--*--*-\n",
      "example: \n",
      "Every effort moves,,                                                \n",
      "-*--*--*--*--*--*--*--*--*--*-\n",
      "example: \n",
      "Every effort moves.                                   to, and I I was the the to the     \n",
      "-*--*--*--*--*--*--*--*--*--*-\n",
      "example: \n",
      "Every effort moves, the, I--                     \" I  \" the to the a I              \n",
      "-*--*--*--*--*--*--*--*--*--*-\n",
      "example: \n",
      "Every effort moves, the of, the.        he was.                                  \n",
      "-*--*--*--*--*--*--*--*--*--*-\n",
      "Ep 46 (Step 045): Train loss 6.125, Val loss 7.142\n",
      "example: \n",
      "Every effort moves, I to the, in the..  \"                                      \n",
      "-*--*--*--*--*--*--*--*--*--*-\n",
      "example: \n",
      "Every effort moves was a a,                                              \n",
      "-*--*--*--*--*--*--*--*--*--*-\n",
      "example: \n",
      "Every effort moves,-- the, and I had a, and his it was a,.                                  \n",
      "-*--*--*--*--*--*--*--*--*--*-\n",
      "example: \n",
      "Every effort moves,.                               I a.           \" I,\n",
      "-*--*--*--*--*--*--*--*--*--*-\n",
      "example: \n",
      "Every effort moves a--, and the to                                            \n",
      "-*--*--*--*--*--*--*--*--*--*-\n"
     ]
    }
   ],
   "execution_count": 28
  },
  {
   "cell_type": "code",
   "id": "eae33265",
   "metadata": {
    "execution": {
     "iopub.execute_input": "2024-09-06T09:17:22.874215Z",
     "iopub.status.busy": "2024-09-06T09:17:22.873735Z",
     "iopub.status.idle": "2024-09-06T09:17:24.505301Z",
     "shell.execute_reply": "2024-09-06T09:17:24.504352Z"
    },
    "papermill": {
     "duration": 1.660388,
     "end_time": "2024-09-06T09:17:24.50727",
     "exception": false,
     "start_time": "2024-09-06T09:17:22.846882",
     "status": "completed"
    },
    "tags": [],
    "ExecuteTime": {
     "end_time": "2025-10-27T09:42:00.680215Z",
     "start_time": "2025-10-27T09:41:58.173925Z"
    }
   },
   "source": [
    "# Ep 46 (Step 045): Train loss 6.125, Val loss 7.142\n",
    "\n",
    "import matplotlib.pyplot as plt\n",
    "from matplotlib.ticker import MaxNLocator\n",
    "\n",
    "\n",
    "def plot_losses(epochs_seen, tokens_seen, train_losses, val_losses):\n",
    "    fig, ax1 = plt.subplots(figsize=(15, 5))\n",
    "\n",
    "    # Plot training and validation loss against epochs\n",
    "    ax1.plot(epochs_seen, train_losses, label=\"Training loss\")\n",
    "    ax1.plot(epochs_seen, val_losses, linestyle=\"-.\", label=\"Validation loss\")\n",
    "    ax1.set_xlabel(\"Epochs\")\n",
    "    ax1.set_ylabel(\"Loss\")\n",
    "    ax1.legend(loc=\"upper right\")\n",
    "    ax1.xaxis.set_major_locator(MaxNLocator(integer=True))  # only show integer labels on x-axis\n",
    "\n",
    "    # Create a second x-axis for tokens seen\n",
    "    ax2 = ax1.twiny()  # Create a second x-axis that shares the same y-axis\n",
    "    ax2.plot(tokens_seen, train_losses, alpha=0)  # Invisible plot for aligning ticks\n",
    "    ax2.set_xlabel(\"Tokens seen\")\n",
    "\n",
    "    fig.tight_layout()  # Adjust layout to make room\n",
    "    plt.savefig(\"loss-plot.pdf\")\n",
    "    plt.show()\n",
    "\n",
    "epochs_tensor = torch.linspace(0, num_epochs, len(train_losses))\n",
    "plot_losses(epochs_tensor, tokens_seen, train_losses, val_losses)"
   ],
   "outputs": [
    {
     "data": {
      "text/plain": [
       "<Figure size 1500x500 with 2 Axes>"
      ],
      "image/png": "[encoded data removed]"
     },
     "metadata": {},
     "output_type": "display_data",
     "jetTransient": {
      "display_id": null
     }
    }
   ],
   "execution_count": 29
  },
  {
   "cell_type": "code",
   "id": "ff9692a2",
   "metadata": {
    "execution": {
     "iopub.execute_input": "2024-09-06T09:17:24.56348Z",
     "iopub.status.busy": "2024-09-06T09:17:24.562423Z",
     "iopub.status.idle": "2024-09-06T09:17:27.984803Z",
     "shell.execute_reply": "2024-09-06T09:17:27.983796Z"
    },
    "papermill": {
     "duration": 3.45237,
     "end_time": "2024-09-06T09:17:27.986921",
     "exception": false,
     "start_time": "2024-09-06T09:17:24.534551",
     "status": "completed"
    },
    "tags": [],
    "ExecuteTime": {
     "end_time": "2025-10-27T09:42:02.470535Z",
     "start_time": "2025-10-27T09:42:00.960082Z"
    }
   },
   "source": [
    "model.to(\"cpu\")\n",
    "model.eval()\n",
    "\n",
    "\n",
    "token_ids = generate(\n",
    "    model=model,\n",
    "    idx=text_to_token_ids(\"quite insensible to the irony\", tokenizer),\n",
    "    max_new_tokens=25,\n",
    "    context_size=GPTConfig.context_length,\n",
    "    top_k=5,temperature=0.7,eos_id=None\n",
    "\n",
    ")\n",
    "\n",
    "print(\"Output text:\\n\", token_ids_to_text(token_ids, tokenizer))"
   ],
   "outputs": [
    {
     "name": "stdout",
     "output_type": "stream",
     "text": [
      "Output text:\n",
      " quite insensible to the irony\n",
      "\n",
      "\n",
      "\n",
      "\n",
      "\n",
      "\n",
      "\n",
      "\n",
      "\n",
      "\" the----and the--\n",
      "\n",
      "\n",
      "\n",
      "\n",
      "\n",
      "\"--\n"
     ]
    }
   ],
   "execution_count": 30
  },
  {
   "cell_type": "markdown",
   "id": "13164812",
   "metadata": {
    "papermill": {
     "duration": 0.026387,
     "end_time": "2024-09-06T09:17:28.040189",
     "exception": false,
     "start_time": "2024-09-06T09:17:28.013802",
     "status": "completed"
    },
    "tags": []
   },
   "source": [
    "Both the training and validation losses start to improve\n",
    "for the first epoch. However, the losses start to diverge past the second epoch.\n",
    "This divergence and the fact that the validation loss is much larger than the\n",
    "training loss indicate that the model is overfitting to the training data. We can\n",
    "confirm that the model memorizes the training data verbatim by searching for\n",
    "the generated text snippets"
   ]
  },
  {
   "cell_type": "markdown",
   "id": "b35d4925",
   "metadata": {
    "papermill": {
     "duration": 0.026118,
     "end_time": "2024-09-06T09:17:28.093478",
     "exception": false,
     "start_time": "2024-09-06T09:17:28.06736",
     "status": "completed"
    },
    "tags": []
   },
   "source": [
    "<hr>"
   ]
  },
  {
   "cell_type": "markdown",
   "id": "f24436d0",
   "metadata": {
    "papermill": {
     "duration": 0.025999,
     "end_time": "2024-09-06T09:17:28.145769",
     "exception": false,
     "start_time": "2024-09-06T09:17:28.11977",
     "status": "completed"
    },
    "tags": []
   },
   "source": "## Loading and saving model weights in PyTorch"
  },
  {
   "cell_type": "code",
   "id": "c30a31a1",
   "metadata": {
    "execution": {
     "iopub.execute_input": "2024-09-06T09:17:28.200295Z",
     "iopub.status.busy": "2024-09-06T09:17:28.199935Z",
     "iopub.status.idle": "2024-09-06T09:17:30.994608Z",
     "shell.execute_reply": "2024-09-06T09:17:30.993407Z"
    },
    "papermill": {
     "duration": 2.82473,
     "end_time": "2024-09-06T09:17:30.996954",
     "exception": false,
     "start_time": "2024-09-06T09:17:28.172224",
     "status": "completed"
    },
    "tags": [],
    "ExecuteTime": {
     "end_time": "2025-10-27T09:42:05.108629Z",
     "start_time": "2025-10-27T09:42:02.503146Z"
    }
   },
   "source": [
    "# save model weight only:\n",
    "# torch.save(model.state_dict(), \"model.pth\")\n",
    "# # Then we can load the model weights into a new GPTModel model instance as follows:\n",
    "# model = GPTModel(GPT_CONFIG_124M)\n",
    "# device = torch.device(\"cuda\" if torch.cuda.is_available() else \"cpu\")\n",
    "# model.load_state_dict(torch.load(\"model.pth\", map_location=device, weights_only=True))\n",
    "# model.eval();\n",
    "\n",
    "# save model weight and optimizer:\n",
    "print('saving model and optimizer...')\n",
    "torch.save({\n",
    "    \"model_state_dict\": model.state_dict(),\n",
    "    \"optimizer_state_dict\": optimizer.state_dict(),\n",
    "    }, \n",
    "    \"model_and_optimizer.pth\"\n",
    ")\n",
    "print('Done')"
   ],
   "outputs": [
    {
     "name": "stdout",
     "output_type": "stream",
     "text": [
      "saving model and optimizer...\n",
      "Done\n"
     ]
    }
   ],
   "execution_count": 31
  },
  {
   "cell_type": "code",
   "id": "3b474be3",
   "metadata": {
    "execution": {
     "iopub.execute_input": "2024-09-06T09:17:31.060005Z",
     "iopub.status.busy": "2024-09-06T09:17:31.059603Z",
     "iopub.status.idle": "2024-09-06T09:17:31.065384Z",
     "shell.execute_reply": "2024-09-06T09:17:31.064563Z"
    },
    "papermill": {
     "duration": 0.038594,
     "end_time": "2024-09-06T09:17:31.067264",
     "exception": false,
     "start_time": "2024-09-06T09:17:31.02867",
     "status": "completed"
    },
    "tags": [],
    "ExecuteTime": {
     "end_time": "2025-10-27T09:42:05.179351Z",
     "start_time": "2025-10-27T09:42:05.170106Z"
    }
   },
   "source": [
    "#  delete model\n",
    "del model\n",
    "\n",
    "print(' then we deleted model from memory to ensure we use loaded model')"
   ],
   "outputs": [
    {
     "name": "stdout",
     "output_type": "stream",
     "text": [
      " then we deleted model from memory to ensure we use loaded model\n"
     ]
    }
   ],
   "execution_count": 32
  },
  {
   "cell_type": "code",
   "id": "39231cf2",
   "metadata": {
    "execution": {
     "iopub.execute_input": "2024-09-06T09:17:31.124324Z",
     "iopub.status.busy": "2024-09-06T09:17:31.123395Z",
     "iopub.status.idle": "2024-09-06T09:17:34.262755Z",
     "shell.execute_reply": "2024-09-06T09:17:34.261711Z"
    },
    "papermill": {
     "duration": 3.170716,
     "end_time": "2024-09-06T09:17:34.264945",
     "exception": false,
     "start_time": "2024-09-06T09:17:31.094229",
     "status": "completed"
    },
    "tags": [],
    "ExecuteTime": {
     "end_time": "2025-10-27T09:42:07.329306Z",
     "start_time": "2025-10-27T09:42:05.204652Z"
    }
   },
   "source": [
    "# load model and optimizer\n",
    "print('loading...')\n",
    "checkpoint = torch.load(\"model_and_optimizer.pth\", weights_only=True)\n",
    "\n",
    "model = GPTModel(GPTConfig)\n",
    "model.to(device)\n",
    "model.load_state_dict(checkpoint[\"model_state_dict\"])\n",
    "\n",
    "optimizer = torch.optim.AdamW(model.parameters(), lr=0.0005, weight_decay=0.1)\n",
    "optimizer.load_state_dict(checkpoint[\"optimizer_state_dict\"])\n",
    "model.train();\n",
    "print('Done')"
   ],
   "outputs": [
    {
     "name": "stdout",
     "output_type": "stream",
     "text": [
      "loading...\n",
      "Done\n"
     ]
    }
   ],
   "execution_count": 33
  },
  {
   "cell_type": "code",
   "id": "a1f863bc",
   "metadata": {
    "execution": {
     "iopub.execute_input": "2024-09-06T09:17:34.320676Z",
     "iopub.status.busy": "2024-09-06T09:17:34.320286Z",
     "iopub.status.idle": "2024-09-06T09:17:37.423004Z",
     "shell.execute_reply": "2024-09-06T09:17:37.422024Z"
    },
    "papermill": {
     "duration": 3.133285,
     "end_time": "2024-09-06T09:17:37.425552",
     "exception": false,
     "start_time": "2024-09-06T09:17:34.292267",
     "status": "completed"
    },
    "tags": [],
    "ExecuteTime": {
     "end_time": "2025-10-27T09:44:10.632215Z",
     "start_time": "2025-10-27T09:42:07.826237Z"
    }
   },
   "source": [
    "#  now we can train again or use\n",
    "\n",
    "num_epochs = 2\n",
    "train_losses, val_losses, tokens_seen = train_model_simple(\n",
    "    model, train_dataloader, val_dataloader, optimizer, device,\n",
    "    num_epochs=num_epochs, eval_freq=5, eval_iter=5,\n",
    "    start_context=\"Every effort moves \", tokenizer=tokenizer,\n",
    "        top_k=10,temperature=2.7,eos_id=None\n",
    ")"
   ],
   "outputs": [
    {
     "name": "stdout",
     "output_type": "stream",
     "text": [
      "Ep 1 (Step 000): Train loss 5.826, Val loss 6.848\n",
      "example: \n",
      "Every effort moves  to a.  and--as it, in, his  in  and the in, I, the to me to. He it I.   and, it I, his,, in his to-- it the in to and\n",
      "-*--*--*--*--*--*--*--*--*--*-\n",
      "example: \n",
      "Every effort moves  had--and he he, and, of his. G of the a the of his   to the one the he, and in a the his, in.   \", and one the  \" the to to  to\n",
      "-*--*--*--*--*--*--*--*--*--*-\n"
     ]
    }
   ],
   "execution_count": 34
  },
  {
   "cell_type": "markdown",
   "id": "c49da928",
   "metadata": {
    "papermill": {
     "duration": 0.02961,
     "end_time": "2024-09-06T09:17:37.487301",
     "exception": false,
     "start_time": "2024-09-06T09:17:37.457691",
     "status": "completed"
    },
    "tags": []
   },
   "source": "## Using pretrained model from OpenAI"
  },
  {
   "cell_type": "markdown",
   "id": "2ac04688",
   "metadata": {
    "papermill": {
     "duration": 0.029045,
     "end_time": "2024-09-06T09:17:37.544264",
     "exception": false,
     "start_time": "2024-09-06T09:17:37.515219",
     "status": "completed"
    },
    "tags": []
   },
   "source": "### Loading pretrained weights from OpenAI by Transformers"
  },
  {
   "cell_type": "code",
   "id": "472713e5",
   "metadata": {
    "execution": {
     "iopub.execute_input": "2024-09-06T09:17:37.614342Z",
     "iopub.status.busy": "2024-09-06T09:17:37.61342Z",
     "iopub.status.idle": "2024-09-06T09:17:42.384122Z",
     "shell.execute_reply": "2024-09-06T09:17:42.38308Z"
    },
    "papermill": {
     "duration": 4.81137,
     "end_time": "2024-09-06T09:17:42.386303",
     "exception": false,
     "start_time": "2024-09-06T09:17:37.574933",
     "status": "completed"
    },
    "tags": [],
    "ExecuteTime": {
     "end_time": "2025-10-27T09:44:19.502868Z",
     "start_time": "2025-10-27T09:44:11.450445Z"
    }
   },
   "source": [
    "from transformers import GPT2Model\n",
    "\n",
    "gpt2_small=  \"openai-community/gpt2\"\n",
    "\n",
    "gpt_hf = GPT2Model.from_pretrained(gpt2_small, cache_dir=\"checkpoints\")\n",
    "gpt_hf.eval()\n"
   ],
   "outputs": [
    {
     "data": {
      "text/plain": [
       "GPT2Model(\n",
       "  (wte): Embedding(50257, 768)\n",
       "  (wpe): Embedding(1024, 768)\n",
       "  (drop): Dropout(p=0.1, inplace=False)\n",
       "  (h): ModuleList(\n",
       "    (0-11): 12 x GPT2Block(\n",
       "      (ln_1): LayerNorm((768,), eps=1e-05, elementwise_affine=True)\n",
       "      (attn): GPT2Attention(\n",
       "        (c_attn): Conv1D(nf=2304, nx=768)\n",
       "        (c_proj): Conv1D(nf=768, nx=768)\n",
       "        (attn_dropout): Dropout(p=0.1, inplace=False)\n",
       "        (resid_dropout): Dropout(p=0.1, inplace=False)\n",
       "      )\n",
       "      (ln_2): LayerNorm((768,), eps=1e-05, elementwise_affine=True)\n",
       "      (mlp): GPT2MLP(\n",
       "        (c_fc): Conv1D(nf=3072, nx=768)\n",
       "        (c_proj): Conv1D(nf=768, nx=3072)\n",
       "        (act): NewGELUActivation()\n",
       "        (dropout): Dropout(p=0.1, inplace=False)\n",
       "      )\n",
       "    )\n",
       "  )\n",
       "  (ln_f): LayerNorm((768,), eps=1e-05, elementwise_affine=True)\n",
       ")"
      ]
     },
     "execution_count": 35,
     "metadata": {},
     "output_type": "execute_result"
    }
   ],
   "execution_count": 35
  },
  {
   "cell_type": "code",
   "id": "09b61caf",
   "metadata": {
    "execution": {
     "iopub.execute_input": "2024-09-06T09:17:42.444471Z",
     "iopub.status.busy": "2024-09-06T09:17:42.443977Z",
     "iopub.status.idle": "2024-09-06T09:17:42.450679Z",
     "shell.execute_reply": "2024-09-06T09:17:42.449721Z"
    },
    "papermill": {
     "duration": 0.037933,
     "end_time": "2024-09-06T09:17:42.452699",
     "exception": false,
     "start_time": "2024-09-06T09:17:42.414766",
     "status": "completed"
    },
    "tags": [],
    "ExecuteTime": {
     "end_time": "2025-10-27T09:44:19.939941Z",
     "start_time": "2025-10-27T09:44:19.932390Z"
    }
   },
   "source": [
    "copyConfig = replace(GPTConfig)\n",
    "copyConfig.qkv_bias =True\n",
    "copyConfig.context_length =  1024\n",
    "copyConfig.drop_rate= 0.0       \n",
    "copyConfig"
   ],
   "outputs": [
    {
     "data": {
      "text/plain": [
       "GPT_CONFIG_124M = {\n",
       "    \"vocab_size\": 50257,\n",
       "    \"context_length\": 1024,\n",
       "    \"emb_dim\": 768,\n",
       "    \"n_heads\": 12,\n",
       "    \"n_layers\": 12,\n",
       "    \"drop_rate\": 0.0,\n",
       "    \"qkv_bias\": True\n",
       "}"
      ]
     },
     "execution_count": 36,
     "metadata": {},
     "output_type": "execute_result"
    }
   ],
   "execution_count": 36
  },
  {
   "cell_type": "code",
   "id": "5cd34faf",
   "metadata": {
    "execution": {
     "iopub.execute_input": "2024-09-06T09:17:42.514859Z",
     "iopub.status.busy": "2024-09-06T09:17:42.514542Z",
     "iopub.status.idle": "2024-09-06T09:17:42.519393Z",
     "shell.execute_reply": "2024-09-06T09:17:42.518551Z"
    },
    "papermill": {
     "duration": 0.036841,
     "end_time": "2024-09-06T09:17:42.52155",
     "exception": false,
     "start_time": "2024-09-06T09:17:42.484709",
     "status": "completed"
    },
    "tags": [],
    "ExecuteTime": {
     "end_time": "2025-10-27T09:44:19.961899Z",
     "start_time": "2025-10-27T09:44:19.950870Z"
    }
   },
   "source": [
    "def assign_check(left, right):\n",
    "    if left.shape != right.shape:\n",
    "        raise ValueError(f\"Shape mismatch. Left: {left.shape}, Right: {right.shape}\")\n",
    "    return torch.nn.Parameter(right.clone().detach())\n"
   ],
   "outputs": [],
   "execution_count": 37
  },
  {
   "cell_type": "code",
   "id": "0c603287",
   "metadata": {
    "execution": {
     "iopub.execute_input": "2024-09-06T09:17:42.580602Z",
     "iopub.status.busy": "2024-09-06T09:17:42.580302Z",
     "iopub.status.idle": "2024-09-06T09:17:42.596898Z",
     "shell.execute_reply": "2024-09-06T09:17:42.596053Z"
    },
    "papermill": {
     "duration": 0.047456,
     "end_time": "2024-09-06T09:17:42.598893",
     "exception": false,
     "start_time": "2024-09-06T09:17:42.551437",
     "status": "completed"
    },
    "tags": [],
    "ExecuteTime": {
     "end_time": "2025-10-27T09:44:19.989030Z",
     "start_time": "2025-10-27T09:44:19.967007Z"
    }
   },
   "source": [
    "def load_weights(gpt, gpt_hf):\n",
    "\n",
    "    d = gpt_hf.state_dict()\n",
    "\n",
    "    gpt.pos_emb.weight = assign_check(gpt.pos_emb.weight, d[\"wpe.weight\"])\n",
    "    gpt.tok_emb.weight = assign_check(gpt.tok_emb.weight, d[\"wte.weight\"])\n",
    "    \n",
    "    for b in range(copyConfig.n_layers):\n",
    "        q_w, k_w, v_w = np.split(d[f\"h.{b}.attn.c_attn.weight\"], 3, axis=-1)\n",
    "        gpt.transformer_blocks[b].att.w_queries.weight = assign_check(gpt.transformer_blocks[b].att.w_queries.weight, q_w.T)\n",
    "        gpt.transformer_blocks[b].att.w_keys.weight = assign_check(gpt.transformer_blocks[b].att.w_keys.weight, k_w.T)\n",
    "        gpt.transformer_blocks[b].att.w_values.weight = assign_check(gpt.transformer_blocks[b].att.w_values.weight, v_w.T)\n",
    "    \n",
    "        q_b, k_b, v_b = np.split(d[f\"h.{b}.attn.c_attn.bias\"], 3, axis=-1)\n",
    "        gpt.transformer_blocks[b].att.w_queries.bias = assign_check(gpt.transformer_blocks[b].att.w_queries.bias, q_b)\n",
    "        gpt.transformer_blocks[b].att.w_keys.bias = assign_check(gpt.transformer_blocks[b].att.w_keys.bias, k_b)\n",
    "        gpt.transformer_blocks[b].att.w_values.bias = assign_check(gpt.transformer_blocks[b].att.w_values.bias, v_b)\n",
    "    \n",
    "    \n",
    "        gpt.transformer_blocks[b].att.out_proj.weight = assign_check(gpt.transformer_blocks[b].att.out_proj.weight, d[f\"h.{b}.attn.c_proj.weight\"].T)\n",
    "        gpt.transformer_blocks[b].att.out_proj.bias = assign_check(gpt.transformer_blocks[b].att.out_proj.bias, d[f\"h.{b}.attn.c_proj.bias\"])\n",
    "    \n",
    "        gpt.transformer_blocks[b].ff.layers[0].weight = assign_check(gpt.transformer_blocks[b].ff.layers[0].weight, d[f\"h.{b}.mlp.c_fc.weight\"].T)\n",
    "        gpt.transformer_blocks[b].ff.layers[0].bias = assign_check(gpt.transformer_blocks[b].ff.layers[0].bias, d[f\"h.{b}.mlp.c_fc.bias\"])\n",
    "        gpt.transformer_blocks[b].ff.layers[2].weight = assign_check(gpt.transformer_blocks[b].ff.layers[2].weight, d[f\"h.{b}.mlp.c_proj.weight\"].T)\n",
    "        gpt.transformer_blocks[b].ff.layers[2].bias = assign_check(gpt.transformer_blocks[b].ff.layers[2].bias, d[f\"h.{b}.mlp.c_proj.bias\"])\n",
    "    \n",
    "        gpt.transformer_blocks[b].norm1.scale = assign_check(gpt.transformer_blocks[b].norm1.scale, d[f\"h.{b}.ln_1.weight\"])\n",
    "        gpt.transformer_blocks[b].norm1.shift = assign_check(gpt.transformer_blocks[b].norm1.shift, d[f\"h.{b}.ln_1.bias\"])\n",
    "        gpt.transformer_blocks[b].norm2.scale = assign_check(gpt.transformer_blocks[b].norm2.scale, d[f\"h.{b}.ln_2.weight\"])\n",
    "        gpt.transformer_blocks[b].norm2.shift = assign_check(gpt.transformer_blocks[b].norm2.shift, d[f\"h.{b}.ln_2.bias\"])\n",
    "    \n",
    "        gpt.final_norm.scale = assign_check(gpt.final_norm.scale, d[f\"ln_f.weight\"])\n",
    "        gpt.final_norm.shift = assign_check(gpt.final_norm.shift, d[f\"ln_f.bias\"])\n",
    "        gpt.out_ff.weight = assign_check(gpt.out_ff.weight, d[\"wte.weight\"])"
   ],
   "outputs": [],
   "execution_count": 38
  },
  {
   "cell_type": "code",
   "id": "00fb98d1",
   "metadata": {
    "execution": {
     "iopub.execute_input": "2024-09-06T09:17:42.655572Z",
     "iopub.status.busy": "2024-09-06T09:17:42.655069Z",
     "iopub.status.idle": "2024-09-06T09:17:44.794655Z",
     "shell.execute_reply": "2024-09-06T09:17:44.793657Z"
    },
    "papermill": {
     "duration": 2.1706,
     "end_time": "2024-09-06T09:17:44.797041",
     "exception": false,
     "start_time": "2024-09-06T09:17:42.626441",
     "status": "completed"
    },
    "tags": [],
    "ExecuteTime": {
     "end_time": "2025-10-27T09:44:21.800112Z",
     "start_time": "2025-10-27T09:44:19.995234Z"
    }
   },
   "source": [
    "device = torch.device(\"cuda\" if torch.cuda.is_available() else \"cpu\")\n",
    "\n",
    "gpt = GPTModel(copyConfig)\n",
    "load_weights(gpt, gpt_hf)\n"
   ],
   "outputs": [],
   "execution_count": 39
  },
  {
   "cell_type": "code",
   "id": "ab8fb51f",
   "metadata": {
    "execution": {
     "iopub.execute_input": "2024-09-06T09:17:44.856236Z",
     "iopub.status.busy": "2024-09-06T09:17:44.855464Z",
     "iopub.status.idle": "2024-09-06T09:17:45.446984Z",
     "shell.execute_reply": "2024-09-06T09:17:45.446019Z"
    },
    "papermill": {
     "duration": 0.623389,
     "end_time": "2024-09-06T09:17:45.449469",
     "exception": false,
     "start_time": "2024-09-06T09:17:44.82608",
     "status": "completed"
    },
    "tags": [],
    "ExecuteTime": {
     "end_time": "2025-10-27T09:44:24.200199Z",
     "start_time": "2025-10-27T09:44:22.243127Z"
    }
   },
   "source": [
    "# test\n",
    "token_ids = generate(\n",
    "    model=gpt.to(device),\n",
    "    idx=text_to_token_ids(\"Every effort moves you\", tokenizer).to(device),\n",
    "    max_new_tokens=30,\n",
    "    context_size=copyConfig.context_length,\n",
    "    top_k=1,\n",
    "    temperature=1.0\n",
    ")\n",
    "\n",
    "print(\"Output text:\\n\", token_ids_to_text(token_ids, tokenizer))"
   ],
   "outputs": [
    {
     "name": "stdout",
     "output_type": "stream",
     "text": [
      "Output text:\n",
      " Every effort moves you forward.\n",
      "\n",
      "The first step is to understand the importance of your work.\n",
      "\n",
      "The second step is to understand the importance of your work.\n"
     ]
    }
   ],
   "execution_count": 40
  },
  {
   "cell_type": "code",
   "id": "e9a5dec8",
   "metadata": {
    "execution": {
     "iopub.execute_input": "2024-09-06T09:17:45.508611Z",
     "iopub.status.busy": "2024-09-06T09:17:45.508018Z",
     "iopub.status.idle": "2024-09-06T09:17:45.51367Z",
     "shell.execute_reply": "2024-09-06T09:17:45.512742Z"
    },
    "papermill": {
     "duration": 0.03764,
     "end_time": "2024-09-06T09:17:45.515637",
     "exception": false,
     "start_time": "2024-09-06T09:17:45.477997",
     "status": "completed"
    },
    "tags": [],
    "ExecuteTime": {
     "end_time": "2025-10-27T09:44:24.704185Z",
     "start_time": "2025-10-27T09:44:24.692663Z"
    }
   },
   "source": [
    "del gpt\n",
    "print('delete gpt model loaded from huggingface.')"
   ],
   "outputs": [
    {
     "name": "stdout",
     "output_type": "stream",
     "text": [
      "delete gpt model loaded from huggingface.\n"
     ]
    }
   ],
   "execution_count": 41
  },
  {
   "cell_type": "markdown",
   "id": "d85ce1c0",
   "metadata": {
    "papermill": {
     "duration": 0.027565,
     "end_time": "2024-09-06T09:17:45.572012",
     "exception": false,
     "start_time": "2024-09-06T09:17:45.544447",
     "status": "completed"
    },
    "tags": []
   },
   "source": "### Loading pretrained weights from OpenAI by Tensorflow"
  },
  {
   "cell_type": "code",
   "id": "521be903",
   "metadata": {
    "execution": {
     "iopub.execute_input": "2024-09-06T09:17:45.629264Z",
     "iopub.status.busy": "2024-09-06T09:17:45.628956Z",
     "iopub.status.idle": "2024-09-06T09:17:59.770819Z",
     "shell.execute_reply": "2024-09-06T09:17:59.769978Z"
    },
    "papermill": {
     "duration": 14.173224,
     "end_time": "2024-09-06T09:17:59.77322",
     "exception": false,
     "start_time": "2024-09-06T09:17:45.599996",
     "status": "completed"
    },
    "tags": [],
    "ExecuteTime": {
     "end_time": "2025-10-27T09:44:24.759678Z",
     "start_time": "2025-10-27T09:44:24.744517Z"
    }
   },
   "source": [
    "import tensorflow as tf\n",
    "import json\n",
    "\n",
    "def download_file(url, destination):\n",
    "    # Send a GET request to download the file\n",
    "\n",
    "    try:\n",
    "        with urllib.request.urlopen(url) as response:\n",
    "            # Get the total file size from headers, defaulting to 0 if not present\n",
    "            file_size = int(response.headers.get(\"Content-Length\", 0))\n",
    "\n",
    "            # Check if file exists and has the same size\n",
    "            if os.path.exists(destination):\n",
    "                file_size_local = os.path.getsize(destination)\n",
    "                if file_size == file_size_local:\n",
    "                    print(f\"File already exists and is up-to-date: {destination}\")\n",
    "                    return\n",
    "\n",
    "            # Define the block size for reading the file\n",
    "            block_size = 1024  # 1 Kilobyte\n",
    "\n",
    "            # Initialize the progress bar with total file size\n",
    "            progress_bar_description = os.path.basename(url)  # Extract filename from URL\n",
    "            with tqdm(total=file_size, unit=\"iB\", unit_scale=True, desc=progress_bar_description) as progress_bar:\n",
    "                # Open the destination file in binary write mode\n",
    "                with open(destination, \"wb\") as file:\n",
    "                    # Read the file in chunks and write to destination\n",
    "                    while True:\n",
    "                        chunk = response.read(block_size)\n",
    "                        if not chunk:\n",
    "                            break\n",
    "                        file.write(chunk)\n",
    "                        progress_bar.update(len(chunk))  # Update progress bar\n",
    "    except urllib.error.HTTPError:\n",
    "        s = (\n",
    "            f\"The specified URL ({url}) is incorrect, the internet connection cannot be established,\"\n",
    "            \"\\nor the requested file is temporarily unavailable.\\nPlease visit the following website\"\n",
    "            \" for help: https://github.com/rasbt/LLMs-from-scratch/discussions/273\")\n",
    "        print(s)\n",
    "\n",
    "def load_gpt2_params_from_tf_ckpt(ckpt_path, settings):\n",
    "    # Initialize parameters dictionary with empty blocks for each layer\n",
    "    params = {\"blocks\": [{} for _ in range(settings[\"n_layer\"])]}\n",
    "\n",
    "    # Iterate over each variable in the checkpoint\n",
    "    for name, _ in tf.train.list_variables(ckpt_path):\n",
    "        # Load the variable and remove singleton dimensions\n",
    "        variable_array = np.squeeze(tf.train.load_variable(ckpt_path, name))\n",
    "\n",
    "        # Process the variable name to extract relevant parts\n",
    "        variable_name_parts = name.split(\"/\")[1:]  # Skip the 'model/' prefix\n",
    "\n",
    "        # Identify the target dictionary for the variable\n",
    "        target_dict = params\n",
    "        if variable_name_parts[0].startswith(\"h\"):\n",
    "            layer_number = int(variable_name_parts[0][1:])\n",
    "            target_dict = params[\"blocks\"][layer_number]\n",
    "\n",
    "        # Recursively access or create nested dictionaries\n",
    "        for key in variable_name_parts[1:-1]:\n",
    "            target_dict = target_dict.setdefault(key, {})\n",
    "\n",
    "        # Assign the variable array to the last key\n",
    "        last_key = variable_name_parts[-1]\n",
    "        target_dict[last_key] = variable_array\n",
    "\n",
    "    return params\n",
    "def download_and_load_gpt2(model_size, models_dir):\n",
    "    # Validate model size\n",
    "    allowed_sizes = (\"124M\", \"355M\", \"774M\", \"1558M\")\n",
    "    if model_size not in allowed_sizes:\n",
    "        raise ValueError(f\"Model size not in {allowed_sizes}\")\n",
    "\n",
    "    # Define paths\n",
    "    model_dir = os.path.join(models_dir, model_size)\n",
    "    base_url = \"https://openaipublic.blob.core.windows.net/gpt-2/models\"\n",
    "    filenames = [\n",
    "        \"checkpoint\", \"encoder.json\", \"hparams.json\",\n",
    "        \"model.ckpt.data-00000-of-00001\", \"model.ckpt.index\",\n",
    "        \"model.ckpt.meta\", \"vocab.bpe\"\n",
    "    ]\n",
    "\n",
    "    # Download files\n",
    "    os.makedirs(model_dir, exist_ok=True)\n",
    "    for filename in filenames:\n",
    "        file_url = os.path.join(base_url, model_size, filename)\n",
    "        file_path = os.path.join(model_dir, filename)\n",
    "        download_file(file_url, file_path)\n",
    "\n",
    "    # Load settings and params\n",
    "    tf_ckpt_path = tf.train.latest_checkpoint(model_dir)\n",
    "    settings = json.load(open(os.path.join(model_dir, \"hparams.json\")))\n",
    "    params = load_gpt2_params_from_tf_ckpt(tf_ckpt_path, settings)\n",
    "\n",
    "    return settings, params\n"
   ],
   "outputs": [],
   "execution_count": 42
  },
  {
   "cell_type": "code",
   "id": "a6383cc6",
   "metadata": {
    "execution": {
     "iopub.execute_input": "2024-09-06T09:17:59.83303Z",
     "iopub.status.busy": "2024-09-06T09:17:59.83193Z",
     "iopub.status.idle": "2024-09-06T09:19:09.757495Z",
     "shell.execute_reply": "2024-09-06T09:19:09.756308Z"
    },
    "papermill": {
     "duration": 69.957803,
     "end_time": "2024-09-06T09:19:09.759944",
     "exception": false,
     "start_time": "2024-09-06T09:17:59.802141",
     "status": "completed"
    },
    "tags": [],
    "ExecuteTime": {
     "end_time": "2025-10-27T10:09:43.171411Z",
     "start_time": "2025-10-27T09:44:24.771539Z"
    }
   },
   "source": [
    "settings, params = download_and_load_gpt2(model_size=\"124M\", models_dir=\"gpt2\")\n"
   ],
   "outputs": [
    {
     "name": "stderr",
     "output_type": "stream",
     "text": [
      "checkpoint: 100%|██████████| 77.0/77.0 [00:00<00:00, 38.4kiB/s]\n",
      "encoder.json: 100%|██████████| 1.04M/1.04M [00:02<00:00, 490kiB/s] \n",
      "hparams.json: 100%|██████████| 90.0/90.0 [00:00<?, ?iB/s]\n",
      "model.ckpt.data-00000-of-00001: 100%|██████████| 498M/498M [25:05<00:00, 331kiB/s]    \n",
      "model.ckpt.index: 100%|██████████| 5.21k/5.21k [00:00<00:00, 2.60MiB/s]\n",
      "model.ckpt.meta: 100%|██████████| 471k/471k [00:01<00:00, 263kiB/s]  \n",
      "vocab.bpe: 100%|██████████| 456k/456k [00:01<00:00, 363kiB/s]  \n"
     ]
    }
   ],
   "execution_count": 43
  },
  {
   "cell_type": "code",
   "id": "16505278",
   "metadata": {
    "execution": {
     "iopub.execute_input": "2024-09-06T09:19:09.883011Z",
     "iopub.status.busy": "2024-09-06T09:19:09.8826Z",
     "iopub.status.idle": "2024-09-06T09:19:09.889317Z",
     "shell.execute_reply": "2024-09-06T09:19:09.888431Z"
    },
    "papermill": {
     "duration": 0.070526,
     "end_time": "2024-09-06T09:19:09.891563",
     "exception": false,
     "start_time": "2024-09-06T09:19:09.821037",
     "status": "completed"
    },
    "tags": [],
    "ExecuteTime": {
     "end_time": "2025-10-27T10:09:43.633929Z",
     "start_time": "2025-10-27T10:09:43.628386Z"
    }
   },
   "source": [
    "print(\"Settings:\", settings)\n",
    "print(\"Parameter dictionary keys:\", params.keys())\n",
    "print(params[\"wte\"])\n",
    "print(\"Token embedding weight tensor dimensions:\", params[\"wte\"].shape)"
   ],
   "outputs": [
    {
     "name": "stdout",
     "output_type": "stream",
     "text": [
      "Settings: {'n_vocab': 50257, 'n_ctx': 1024, 'n_embd': 768, 'n_head': 12, 'n_layer': 12}\n",
      "Parameter dictionary keys: dict_keys(['blocks', 'b', 'g', 'wpe', 'wte'])\n",
      "[[-0.11010301 -0.03926672  0.03310751 ... -0.1363697   0.01506208\n",
      "   0.04531523]\n",
      " [ 0.04034033 -0.04861503  0.04624869 ...  0.08605453  0.00253983\n",
      "   0.04318958]\n",
      " [-0.12746179  0.04793796  0.18410145 ...  0.08991534 -0.12972379\n",
      "  -0.08785918]\n",
      " ...\n",
      " [-0.04453601 -0.05483596  0.01225674 ...  0.10435229  0.09783269\n",
      "  -0.06952604]\n",
      " [ 0.1860082   0.01665728  0.04611587 ... -0.09625227  0.07847701\n",
      "  -0.02245961]\n",
      " [ 0.05135201 -0.02768905  0.0499369  ...  0.00704835  0.15519823\n",
      "   0.12067825]]\n",
      "Token embedding weight tensor dimensions: (50257, 768)\n"
     ]
    }
   ],
   "execution_count": 44
  },
  {
   "cell_type": "code",
   "id": "64a56e1b",
   "metadata": {
    "execution": {
     "iopub.execute_input": "2024-09-06T09:19:10.017147Z",
     "iopub.status.busy": "2024-09-06T09:19:10.016768Z",
     "iopub.status.idle": "2024-09-06T09:19:11.393954Z",
     "shell.execute_reply": "2024-09-06T09:19:11.392946Z"
    },
    "papermill": {
     "duration": 1.44039,
     "end_time": "2024-09-06T09:19:11.395997",
     "exception": false,
     "start_time": "2024-09-06T09:19:09.955607",
     "status": "completed"
    },
    "tags": [],
    "ExecuteTime": {
     "end_time": "2025-10-27T10:09:44.725626Z",
     "start_time": "2025-10-27T10:09:43.650174Z"
    }
   },
   "source": [
    "gpt = GPTModel(copyConfig)\n",
    "gpt.eval()"
   ],
   "outputs": [
    {
     "data": {
      "text/plain": [
       "GPTModel(\n",
       "  (tok_emb): Embedding(50257, 768)\n",
       "  (pos_emb): Embedding(1024, 768)\n",
       "  (dropout_emb): Dropout(p=0.0, inplace=False)\n",
       "  (transformer_blocks): Sequential(\n",
       "    (0): TransformerBlock(\n",
       "      (att): MultiHeadAttention(\n",
       "        (w_queries): Linear(in_features=768, out_features=768, bias=True)\n",
       "        (w_keys): Linear(in_features=768, out_features=768, bias=True)\n",
       "        (w_values): Linear(in_features=768, out_features=768, bias=True)\n",
       "        (out_proj): Linear(in_features=768, out_features=768, bias=True)\n",
       "        (dropout): Dropout(p=0.0, inplace=False)\n",
       "      )\n",
       "      (ff): FeedForwardGELU(\n",
       "        (layers): Sequential(\n",
       "          (0): Linear(in_features=768, out_features=3072, bias=True)\n",
       "          (1): GELU()\n",
       "          (2): Linear(in_features=3072, out_features=768, bias=True)\n",
       "        )\n",
       "      )\n",
       "      (norm1): LayerNorm()\n",
       "      (norm2): LayerNorm()\n",
       "      (dropout): Dropout(p=0.0, inplace=False)\n",
       "    )\n",
       "    (1): TransformerBlock(\n",
       "      (att): MultiHeadAttention(\n",
       "        (w_queries): Linear(in_features=768, out_features=768, bias=True)\n",
       "        (w_keys): Linear(in_features=768, out_features=768, bias=True)\n",
       "        (w_values): Linear(in_features=768, out_features=768, bias=True)\n",
       "        (out_proj): Linear(in_features=768, out_features=768, bias=True)\n",
       "        (dropout): Dropout(p=0.0, inplace=False)\n",
       "      )\n",
       "      (ff): FeedForwardGELU(\n",
       "        (layers): Sequential(\n",
       "          (0): Linear(in_features=768, out_features=3072, bias=True)\n",
       "          (1): GELU()\n",
       "          (2): Linear(in_features=3072, out_features=768, bias=True)\n",
       "        )\n",
       "      )\n",
       "      (norm1): LayerNorm()\n",
       "      (norm2): LayerNorm()\n",
       "      (dropout): Dropout(p=0.0, inplace=False)\n",
       "    )\n",
       "    (2): TransformerBlock(\n",
       "      (att): MultiHeadAttention(\n",
       "        (w_queries): Linear(in_features=768, out_features=768, bias=True)\n",
       "        (w_keys): Linear(in_features=768, out_features=768, bias=True)\n",
       "        (w_values): Linear(in_features=768, out_features=768, bias=True)\n",
       "        (out_proj): Linear(in_features=768, out_features=768, bias=True)\n",
       "        (dropout): Dropout(p=0.0, inplace=False)\n",
       "      )\n",
       "      (ff): FeedForwardGELU(\n",
       "        (layers): Sequential(\n",
       "          (0): Linear(in_features=768, out_features=3072, bias=True)\n",
       "          (1): GELU()\n",
       "          (2): Linear(in_features=3072, out_features=768, bias=True)\n",
       "        )\n",
       "      )\n",
       "      (norm1): LayerNorm()\n",
       "      (norm2): LayerNorm()\n",
       "      (dropout): Dropout(p=0.0, inplace=False)\n",
       "    )\n",
       "    (3): TransformerBlock(\n",
       "      (att): MultiHeadAttention(\n",
       "        (w_queries): Linear(in_features=768, out_features=768, bias=True)\n",
       "        (w_keys): Linear(in_features=768, out_features=768, bias=True)\n",
       "        (w_values): Linear(in_features=768, out_features=768, bias=True)\n",
       "        (out_proj): Linear(in_features=768, out_features=768, bias=True)\n",
       "        (dropout): Dropout(p=0.0, inplace=False)\n",
       "      )\n",
       "      (ff): FeedForwardGELU(\n",
       "        (layers): Sequential(\n",
       "          (0): Linear(in_features=768, out_features=3072, bias=True)\n",
       "          (1): GELU()\n",
       "          (2): Linear(in_features=3072, out_features=768, bias=True)\n",
       "        )\n",
       "      )\n",
       "      (norm1): LayerNorm()\n",
       "      (norm2): LayerNorm()\n",
       "      (dropout): Dropout(p=0.0, inplace=False)\n",
       "    )\n",
       "    (4): TransformerBlock(\n",
       "      (att): MultiHeadAttention(\n",
       "        (w_queries): Linear(in_features=768, out_features=768, bias=True)\n",
       "        (w_keys): Linear(in_features=768, out_features=768, bias=True)\n",
       "        (w_values): Linear(in_features=768, out_features=768, bias=True)\n",
       "        (out_proj): Linear(in_features=768, out_features=768, bias=True)\n",
       "        (dropout): Dropout(p=0.0, inplace=False)\n",
       "      )\n",
       "      (ff): FeedForwardGELU(\n",
       "        (layers): Sequential(\n",
       "          (0): Linear(in_features=768, out_features=3072, bias=True)\n",
       "          (1): GELU()\n",
       "          (2): Linear(in_features=3072, out_features=768, bias=True)\n",
       "        )\n",
       "      )\n",
       "      (norm1): LayerNorm()\n",
       "      (norm2): LayerNorm()\n",
       "      (dropout): Dropout(p=0.0, inplace=False)\n",
       "    )\n",
       "    (5): TransformerBlock(\n",
       "      (att): MultiHeadAttention(\n",
       "        (w_queries): Linear(in_features=768, out_features=768, bias=True)\n",
       "        (w_keys): Linear(in_features=768, out_features=768, bias=True)\n",
       "        (w_values): Linear(in_features=768, out_features=768, bias=True)\n",
       "        (out_proj): Linear(in_features=768, out_features=768, bias=True)\n",
       "        (dropout): Dropout(p=0.0, inplace=False)\n",
       "      )\n",
       "      (ff): FeedForwardGELU(\n",
       "        (layers): Sequential(\n",
       "          (0): Linear(in_features=768, out_features=3072, bias=True)\n",
       "          (1): GELU()\n",
       "          (2): Linear(in_features=3072, out_features=768, bias=True)\n",
       "        )\n",
       "      )\n",
       "      (norm1): LayerNorm()\n",
       "      (norm2): LayerNorm()\n",
       "      (dropout): Dropout(p=0.0, inplace=False)\n",
       "    )\n",
       "    (6): TransformerBlock(\n",
       "      (att): MultiHeadAttention(\n",
       "        (w_queries): Linear(in_features=768, out_features=768, bias=True)\n",
       "        (w_keys): Linear(in_features=768, out_features=768, bias=True)\n",
       "        (w_values): Linear(in_features=768, out_features=768, bias=True)\n",
       "        (out_proj): Linear(in_features=768, out_features=768, bias=True)\n",
       "        (dropout): Dropout(p=0.0, inplace=False)\n",
       "      )\n",
       "      (ff): FeedForwardGELU(\n",
       "        (layers): Sequential(\n",
       "          (0): Linear(in_features=768, out_features=3072, bias=True)\n",
       "          (1): GELU()\n",
       "          (2): Linear(in_features=3072, out_features=768, bias=True)\n",
       "        )\n",
       "      )\n",
       "      (norm1): LayerNorm()\n",
       "      (norm2): LayerNorm()\n",
       "      (dropout): Dropout(p=0.0, inplace=False)\n",
       "    )\n",
       "    (7): TransformerBlock(\n",
       "      (att): MultiHeadAttention(\n",
       "        (w_queries): Linear(in_features=768, out_features=768, bias=True)\n",
       "        (w_keys): Linear(in_features=768, out_features=768, bias=True)\n",
       "        (w_values): Linear(in_features=768, out_features=768, bias=True)\n",
       "        (out_proj): Linear(in_features=768, out_features=768, bias=True)\n",
       "        (dropout): Dropout(p=0.0, inplace=False)\n",
       "      )\n",
       "      (ff): FeedForwardGELU(\n",
       "        (layers): Sequential(\n",
       "          (0): Linear(in_features=768, out_features=3072, bias=True)\n",
       "          (1): GELU()\n",
       "          (2): Linear(in_features=3072, out_features=768, bias=True)\n",
       "        )\n",
       "      )\n",
       "      (norm1): LayerNorm()\n",
       "      (norm2): LayerNorm()\n",
       "      (dropout): Dropout(p=0.0, inplace=False)\n",
       "    )\n",
       "    (8): TransformerBlock(\n",
       "      (att): MultiHeadAttention(\n",
       "        (w_queries): Linear(in_features=768, out_features=768, bias=True)\n",
       "        (w_keys): Linear(in_features=768, out_features=768, bias=True)\n",
       "        (w_values): Linear(in_features=768, out_features=768, bias=True)\n",
       "        (out_proj): Linear(in_features=768, out_features=768, bias=True)\n",
       "        (dropout): Dropout(p=0.0, inplace=False)\n",
       "      )\n",
       "      (ff): FeedForwardGELU(\n",
       "        (layers): Sequential(\n",
       "          (0): Linear(in_features=768, out_features=3072, bias=True)\n",
       "          (1): GELU()\n",
       "          (2): Linear(in_features=3072, out_features=768, bias=True)\n",
       "        )\n",
       "      )\n",
       "      (norm1): LayerNorm()\n",
       "      (norm2): LayerNorm()\n",
       "      (dropout): Dropout(p=0.0, inplace=False)\n",
       "    )\n",
       "    (9): TransformerBlock(\n",
       "      (att): MultiHeadAttention(\n",
       "        (w_queries): Linear(in_features=768, out_features=768, bias=True)\n",
       "        (w_keys): Linear(in_features=768, out_features=768, bias=True)\n",
       "        (w_values): Linear(in_features=768, out_features=768, bias=True)\n",
       "        (out_proj): Linear(in_features=768, out_features=768, bias=True)\n",
       "        (dropout): Dropout(p=0.0, inplace=False)\n",
       "      )\n",
       "      (ff): FeedForwardGELU(\n",
       "        (layers): Sequential(\n",
       "          (0): Linear(in_features=768, out_features=3072, bias=True)\n",
       "          (1): GELU()\n",
       "          (2): Linear(in_features=3072, out_features=768, bias=True)\n",
       "        )\n",
       "      )\n",
       "      (norm1): LayerNorm()\n",
       "      (norm2): LayerNorm()\n",
       "      (dropout): Dropout(p=0.0, inplace=False)\n",
       "    )\n",
       "    (10): TransformerBlock(\n",
       "      (att): MultiHeadAttention(\n",
       "        (w_queries): Linear(in_features=768, out_features=768, bias=True)\n",
       "        (w_keys): Linear(in_features=768, out_features=768, bias=True)\n",
       "        (w_values): Linear(in_features=768, out_features=768, bias=True)\n",
       "        (out_proj): Linear(in_features=768, out_features=768, bias=True)\n",
       "        (dropout): Dropout(p=0.0, inplace=False)\n",
       "      )\n",
       "      (ff): FeedForwardGELU(\n",
       "        (layers): Sequential(\n",
       "          (0): Linear(in_features=768, out_features=3072, bias=True)\n",
       "          (1): GELU()\n",
       "          (2): Linear(in_features=3072, out_features=768, bias=True)\n",
       "        )\n",
       "      )\n",
       "      (norm1): LayerNorm()\n",
       "      (norm2): LayerNorm()\n",
       "      (dropout): Dropout(p=0.0, inplace=False)\n",
       "    )\n",
       "    (11): TransformerBlock(\n",
       "      (att): MultiHeadAttention(\n",
       "        (w_queries): Linear(in_features=768, out_features=768, bias=True)\n",
       "        (w_keys): Linear(in_features=768, out_features=768, bias=True)\n",
       "        (w_values): Linear(in_features=768, out_features=768, bias=True)\n",
       "        (out_proj): Linear(in_features=768, out_features=768, bias=True)\n",
       "        (dropout): Dropout(p=0.0, inplace=False)\n",
       "      )\n",
       "      (ff): FeedForwardGELU(\n",
       "        (layers): Sequential(\n",
       "          (0): Linear(in_features=768, out_features=3072, bias=True)\n",
       "          (1): GELU()\n",
       "          (2): Linear(in_features=3072, out_features=768, bias=True)\n",
       "        )\n",
       "      )\n",
       "      (norm1): LayerNorm()\n",
       "      (norm2): LayerNorm()\n",
       "      (dropout): Dropout(p=0.0, inplace=False)\n",
       "    )\n",
       "  )\n",
       "  (final_norm): LayerNorm()\n",
       "  (out_ff): Linear(in_features=768, out_features=50257, bias=False)\n",
       ")"
      ]
     },
     "execution_count": 45,
     "metadata": {},
     "output_type": "execute_result"
    }
   ],
   "execution_count": 45
  },
  {
   "cell_type": "code",
   "id": "2457f64f",
   "metadata": {
    "execution": {
     "iopub.execute_input": "2024-09-06T09:19:11.520822Z",
     "iopub.status.busy": "2024-09-06T09:19:11.520416Z",
     "iopub.status.idle": "2024-09-06T09:19:11.920529Z",
     "shell.execute_reply": "2024-09-06T09:19:11.919501Z"
    },
    "papermill": {
     "duration": 0.463377,
     "end_time": "2024-09-06T09:19:11.923132",
     "exception": false,
     "start_time": "2024-09-06T09:19:11.459755",
     "status": "completed"
    },
    "tags": [],
    "ExecuteTime": {
     "end_time": "2025-10-27T10:09:45.226947Z",
     "start_time": "2025-10-27T10:09:45.124733Z"
    }
   },
   "source": [
    "def assign(left, right):\n",
    "    if left.shape != right.shape:\n",
    "        raise ValueError(f\"Shape mismatch. Left: {left.shape}, Right: {right.shape}\")\n",
    "    return torch.nn.Parameter(torch.tensor(right))\n",
    "\n",
    "def load_weights_into_gpt_tf(gpt, params):\n",
    "    gpt.pos_emb.weight = assign(gpt.pos_emb.weight, params['wpe'])\n",
    "    gpt.tok_emb.weight = assign(gpt.tok_emb.weight, params['wte'])\n",
    "#      \n",
    "    for b in range(len(params[\"blocks\"])):\n",
    "        q_w, k_w, v_w = np.split(\n",
    "            (params[\"blocks\"][b][\"attn\"][\"c_attn\"])[\"w\"], 3, axis=-1)\n",
    "        gpt.transformer_blocks[b].att.w_queries.weight = assign(\n",
    "            gpt.transformer_blocks[b].att.w_queries.weight, q_w.T)\n",
    "        gpt.transformer_blocks[b].att.w_keys.weight = assign(\n",
    "            gpt.transformer_blocks[b].att.w_keys.weight, k_w.T)\n",
    "        gpt.transformer_blocks[b].att.w_values.weight = assign(\n",
    "            gpt.transformer_blocks[b].att.w_values.weight, v_w.T)\n",
    "\n",
    "        q_b, k_b, v_b = np.split(\n",
    "            (params[\"blocks\"][b][\"attn\"][\"c_attn\"])[\"b\"], 3, axis=-1)\n",
    "        gpt.transformer_blocks[b].att.w_queries.bias = assign(\n",
    "            gpt.transformer_blocks[b].att.w_queries.bias, q_b)\n",
    "        gpt.transformer_blocks[b].att.w_keys.bias = assign(\n",
    "            gpt.transformer_blocks[b].att.w_keys.bias, k_b)\n",
    "        gpt.transformer_blocks[b].att.w_values.bias = assign(\n",
    "            gpt.transformer_blocks[b].att.w_values.bias, v_b)\n",
    "\n",
    "        gpt.transformer_blocks[b].att.out_proj.weight = assign(\n",
    "            gpt.transformer_blocks[b].att.out_proj.weight, \n",
    "            params[\"blocks\"][b][\"attn\"][\"c_proj\"][\"w\"].T)\n",
    "        gpt.transformer_blocks[b].att.out_proj.bias = assign(\n",
    "            gpt.transformer_blocks[b].att.out_proj.bias, \n",
    "            params[\"blocks\"][b][\"attn\"][\"c_proj\"][\"b\"])\n",
    "\n",
    "        gpt.transformer_blocks[b].ff.layers[0].weight = assign(\n",
    "            gpt.transformer_blocks[b].ff.layers[0].weight, \n",
    "            params[\"blocks\"][b][\"mlp\"][\"c_fc\"][\"w\"].T)\n",
    "        gpt.transformer_blocks[b].ff.layers[0].bias = assign(\n",
    "            gpt.transformer_blocks[b].ff.layers[0].bias, \n",
    "            params[\"blocks\"][b][\"mlp\"][\"c_fc\"][\"b\"])\n",
    "        gpt.transformer_blocks[b].ff.layers[2].weight = assign(\n",
    "            gpt.transformer_blocks[b].ff.layers[2].weight, \n",
    "            params[\"blocks\"][b][\"mlp\"][\"c_proj\"][\"w\"].T)\n",
    "        gpt.transformer_blocks[b].ff.layers[2].bias = assign(\n",
    "            gpt.transformer_blocks[b].ff.layers[2].bias, \n",
    "            params[\"blocks\"][b][\"mlp\"][\"c_proj\"][\"b\"])\n",
    "\n",
    "        gpt.transformer_blocks[b].norm1.scale = assign(\n",
    "            gpt.transformer_blocks[b].norm1.scale, \n",
    "            params[\"blocks\"][b][\"ln_1\"][\"g\"])\n",
    "        gpt.transformer_blocks[b].norm1.shift = assign(\n",
    "            gpt.transformer_blocks[b].norm1.shift, \n",
    "            params[\"blocks\"][b][\"ln_1\"][\"b\"])\n",
    "        gpt.transformer_blocks[b].norm2.scale = assign(\n",
    "            gpt.transformer_blocks[b].norm2.scale, \n",
    "            params[\"blocks\"][b][\"ln_2\"][\"g\"])\n",
    "        gpt.transformer_blocks[b].norm2.shift = assign(\n",
    "            gpt.transformer_blocks[b].norm2.shift, \n",
    "            params[\"blocks\"][b][\"ln_2\"][\"b\"])\n",
    "\n",
    "    gpt.final_norm.scale = assign(gpt.final_norm.scale, params[\"g\"])\n",
    "    gpt.final_norm.shift = assign(gpt.final_norm.shift, params[\"b\"])\n",
    "    gpt.out_ff.weight = assign(gpt.out_ff.weight, params[\"wte\"])\n",
    "    \n",
    "    \n",
    "load_weights_into_gpt_tf(gpt, params)\n",
    "gpt.to(device);\n"
   ],
   "outputs": [],
   "execution_count": 46
  },
  {
   "cell_type": "code",
   "id": "f3afa591",
   "metadata": {
    "execution": {
     "iopub.execute_input": "2024-09-06T09:19:12.04688Z",
     "iopub.status.busy": "2024-09-06T09:19:12.046166Z",
     "iopub.status.idle": "2024-09-06T09:19:26.45172Z",
     "shell.execute_reply": "2024-09-06T09:19:26.450384Z"
    },
    "papermill": {
     "duration": 14.46985,
     "end_time": "2024-09-06T09:19:26.453966",
     "exception": false,
     "start_time": "2024-09-06T09:19:11.984116",
     "status": "completed"
    },
    "tags": [],
    "ExecuteTime": {
     "end_time": "2025-10-27T10:13:14.595490Z",
     "start_time": "2025-10-27T10:09:45.235468Z"
    }
   },
   "source": [
    "torch.manual_seed(123)\n",
    "model.to(device)\n",
    "\n",
    "\n",
    "num_epochs = 10\n",
    "train_losses, val_losses, tokens_seen = train_model_simple(\n",
    "    gpt, train_dataloader, val_dataloader, optimizer, device,\n",
    "    num_epochs=num_epochs, eval_freq=5, eval_iter=5,\n",
    "    start_context=\"Every effort moves \", tokenizer=tokenizer,\n",
    "        top_k=5,temperature=0.7,eos_id=None\n",
    ")"
   ],
   "outputs": [
    {
     "name": "stdout",
     "output_type": "stream",
     "text": [
      "Ep 1 (Step 000): Train loss 3.634, Val loss 3.444\n",
      "example: \n",
      "Every effort moves  on, and the deeper you dive into the world of science and science and science and science and science and science and science and science and science and\n",
      "-*--*--*--*--*--*--*--*--*--*-\n",
      "example: \n",
      "Every effort moves  in the right direction, but it doesn't have to be done in the right order. In fact, the best way to get a better feel for how a given set of rules works is to take a look at a few of the rules\n",
      "-*--*--*--*--*--*--*--*--*--*-\n",
      "example: \n",
      "Every effort moves  in a straight line.  The first thing to do is to find the best position for you, so that you can use your body to move.  This is the easiest part of the movement.  It will take you about 5 minutes\n",
      "-*--*--*--*--*--*--*--*--*--*-\n",
      "example: \n",
      "Every effort moves  and it doesn't always work  because it's not always right. In the case of the original, it was an easy decision to go with the original because of the way the story was structured. The story is structured around the two\n",
      "-*--*--*--*--*--*--*--*--*--*-\n",
      "example: \n",
      "Every effort moves  to make the game better, and I think it's a good idea to keep the game as simple as possible. I've tried to make the game as simple as possible by making the game's level design and story simple, and making it\n",
      "-*--*--*--*--*--*--*--*--*--*-\n",
      "Ep 6 (Step 005): Train loss 3.634, Val loss 3.444\n",
      "example: \n",
      "Every effort moves  inwards. I have to admit, I was really excited when I saw the first trailer for this film. It was a very good looking movie with a great cast, great music, great characters, and a great story. I was\n",
      "-*--*--*--*--*--*--*--*--*--*-\n",
      "example: \n",
      "Every effort moves  from one to another, and it's not always easy to know which one is right for you. The first step in choosing the right one is to look at your own needs. If you're looking to have a good life, you should\n",
      "-*--*--*--*--*--*--*--*--*--*-\n",
      "example: \n",
      "Every effort moves  to get a piece of this puzzle right. The first step is to get the right piece of this puzzle right. The second step is to get the right piece of this puzzle right. The third step is to get the right piece\n",
      "-*--*--*--*--*--*--*--*--*--*-\n",
      "example: \n",
      "Every effort moves  from one place to another. The next time you're on a trip to the park and see a beautiful park, don't be afraid to take a moment to think about what you're about to see. You're not alone. If\n",
      "-*--*--*--*--*--*--*--*--*--*-\n",
      "example: \n",
      "Every effort moves  on to the next step. The first step is to make sure that the code is properly written. I have a few examples that I've seen that are very similar to this. The first step is to write a simple test for the code\n",
      "-*--*--*--*--*--*--*--*--*--*-\n"
     ]
    }
   ],
   "execution_count": 47
  },
  {
   "cell_type": "code",
   "id": "5d8f9f49",
   "metadata": {
    "execution": {
     "iopub.execute_input": "2024-09-06T09:19:26.577283Z",
     "iopub.status.busy": "2024-09-06T09:19:26.576909Z",
     "iopub.status.idle": "2024-09-06T09:19:27.681797Z",
     "shell.execute_reply": "2024-09-06T09:19:27.68078Z"
    },
    "papermill": {
     "duration": 1.168987,
     "end_time": "2024-09-06T09:19:27.684217",
     "exception": false,
     "start_time": "2024-09-06T09:19:26.51523",
     "status": "completed"
    },
    "tags": [],
    "ExecuteTime": {
     "end_time": "2025-10-27T10:13:17.048925Z",
     "start_time": "2025-10-27T10:13:16.090292Z"
    }
   },
   "source": [
    "epochs_tensor = torch.linspace(0, num_epochs, len(train_losses))\n",
    "plot_losses(epochs_tensor, tokens_seen, train_losses, val_losses)"
   ],
   "outputs": [
    {
     "data": {
      "text/plain": [
       "<Figure size 1500x500 with 2 Axes>"
      ],
      "image/png": "[encoded data removed]"
     },
     "metadata": {},
     "output_type": "display_data",
     "jetTransient": {
      "display_id": null
     }
    }
   ],
   "execution_count": 48
  },
  {
   "cell_type": "code",
   "id": "3996c431",
   "metadata": {
    "execution": {
     "iopub.execute_input": "2024-09-06T09:19:27.813659Z",
     "iopub.status.busy": "2024-09-06T09:19:27.812843Z",
     "iopub.status.idle": "2024-09-06T09:19:28.258407Z",
     "shell.execute_reply": "2024-09-06T09:19:28.257388Z"
    },
    "papermill": {
     "duration": 0.512468,
     "end_time": "2024-09-06T09:19:28.26057",
     "exception": false,
     "start_time": "2024-09-06T09:19:27.748102",
     "status": "completed"
    },
    "tags": [],
    "ExecuteTime": {
     "end_time": "2025-10-27T10:13:19.129831Z",
     "start_time": "2025-10-27T10:13:17.121039Z"
    }
   },
   "source": [
    "token_ids = generate(\n",
    "    model=gpt.to(device),\n",
    "    idx=text_to_token_ids(\"Every effort moves \", tokenizer).to(device),\n",
    "    max_new_tokens=30,\n",
    "    context_size=copyConfig.context_length,\n",
    "    top_k=1,\n",
    "    temperature=1.0\n",
    ")\n",
    "\n",
    "print(\"Output text:\\n\", token_ids_to_text(token_ids, tokenizer))"
   ],
   "outputs": [
    {
     "name": "stdout",
     "output_type": "stream",
     "text": [
      "Output text:\n",
      " Every effort moves  to make the game more fun.\n",
      "The game is a bit of a mess, but it's a fun game.\n",
      "The game is a\n"
     ]
    }
   ],
   "execution_count": 49
  }
 ],
 "metadata": {
  "kaggle": {
   "accelerator": "gpu",
   "dataSources": [],
   "dockerImageVersionId": 30762,
   "isGpuEnabled": true,
   "isInternetEnabled": true,
   "language": "python",
   "sourceType": "notebook"
  },
  "kernelspec": {
   "display_name": "Python 3",
   "language": "python",
   "name": "python3"
  },
  "language_info": {
   "codemirror_mode": {
    "name": "ipython",
    "version": 3
   },
   "file_extension": ".py",
   "mimetype": "text/x-python",
   "name": "python",
   "nbconvert_exporter": "python",
   "pygments_lexer": "ipython3",
   "version": "3.10.14"
  },
  "papermill": {
   "default_parameters": {},
   "duration": 232.844049,
   "end_time": "2024-09-06T09:19:31.87945",
   "environment_variables": {},
   "exception": null,
   "input_path": "__notebook__.ipynb",
   "output_path": "__notebook__.ipynb",
   "parameters": {},
   "start_time": "2024-09-06T09:15:39.035401",
   "version": "2.6.0"
  },
  "widgets": {
   "application/vnd.jupyter.widget-state+json": {
    "state": {
     "1288cda84b944d92ba9981f49da8b1d5": {
      "model_module": "@jupyter-widgets/base",
      "model_module_version": "1.2.0",
      "model_name": "LayoutModel",
      "state": {
       "_model_module": "@jupyter-widgets/base",
       "_model_module_version": "1.2.0",
       "_model_name": "LayoutModel",
       "_view_count": null,
       "_view_module": "@jupyter-widgets/base",
       "_view_module_version": "1.2.0",
       "_view_name": "LayoutView",
       "align_content": null,
       "align_items": null,
       "align_self": null,
       "border": null,
       "bottom": null,
       "display": null,
       "flex": null,
       "flex_flow": null,
       "grid_area": null,
       "grid_auto_columns": null,
       "grid_auto_flow": null,
       "grid_auto_rows": null,
       "grid_column": null,
       "grid_gap": null,
       "grid_row": null,
       "grid_template_areas": null,
       "grid_template_columns": null,
       "grid_template_rows": null,
       "height": null,
       "justify_content": null,
       "justify_items": null,
       "left": null,
       "margin": null,
       "max_height": null,
       "max_width": null,
       "min_height": null,
       "min_width": null,
       "object_fit": null,
       "object_position": null,
       "order": null,
       "overflow": null,
       "overflow_x": null,
       "overflow_y": null,
       "padding": null,
       "right": null,
       "top": null,
       "visibility": null,
       "width": null
      }
     },
     "1359f883f2bd4c6f886b85fdfb500323": {
      "model_module": "@jupyter-widgets/base",
      "model_module_version": "1.2.0",
      "model_name": "LayoutModel",
      "state": {
       "_model_module": "@jupyter-widgets/base",
       "_model_module_version": "1.2.0",
       "_model_name": "LayoutModel",
       "_view_count": null,
       "_view_module": "@jupyter-widgets/base",
       "_view_module_version": "1.2.0",
       "_view_name": "LayoutView",
       "align_content": null,
       "align_items": null,
       "align_self": null,
       "border": null,
       "bottom": null,
       "display": null,
       "flex": null,
       "flex_flow": null,
       "grid_area": null,
       "grid_auto_columns": null,
       "grid_auto_flow": null,
       "grid_auto_rows": null,
       "grid_column": null,
       "grid_gap": null,
       "grid_row": null,
       "grid_template_areas": null,
       "grid_template_columns": null,
       "grid_template_rows": null,
       "height": null,
       "justify_content": null,
       "justify_items": null,
       "left": null,
       "margin": null,
       "max_height": null,
       "max_width": null,
       "min_height": null,
       "min_width": null,
       "object_fit": null,
       "object_position": null,
       "order": null,
       "overflow": null,
       "overflow_x": null,
       "overflow_y": null,
       "padding": null,
       "right": null,
       "top": null,
       "visibility": null,
       "width": null
      }
     },
     "1e50dfa1156c4ef4851479b0e784ffad": {
      "model_module": "@jupyter-widgets/controls",
      "model_module_version": "1.5.0",
      "model_name": "DescriptionStyleModel",
      "state": {
       "_model_module": "@jupyter-widgets/controls",
       "_model_module_version": "1.5.0",
       "_model_name": "DescriptionStyleModel",
       "_view_count": null,
       "_view_module": "@jupyter-widgets/base",
       "_view_module_version": "1.2.0",
       "_view_name": "StyleView",
       "description_width": ""
      }
     },
     "2925ea64aef54875bdfa1c3f07d6df0e": {
      "model_module": "@jupyter-widgets/controls",
      "model_module_version": "1.5.0",
      "model_name": "HTMLModel",
      "state": {
       "_dom_classes": [],
       "_model_module": "@jupyter-widgets/controls",
       "_model_module_version": "1.5.0",
       "_model_name": "HTMLModel",
       "_view_count": null,
       "_view_module": "@jupyter-widgets/controls",
       "_view_module_version": "1.5.0",
       "_view_name": "HTMLView",
       "description": "",
       "description_tooltip": null,
       "layout": "IPY_MODEL_a8b6c2483ceb40af97a5d381fa933ab8",
       "placeholder": "​",
       "style": "IPY_MODEL_b5476961a6f04e4b8806d67e102587d2",
       "value": "model.safetensors: 100%"
      }
     },
     "2b3bbba10b3b437bb0cdef2cfd54ded7": {
      "model_module": "@jupyter-widgets/controls",
      "model_module_version": "1.5.0",
      "model_name": "ProgressStyleModel",
      "state": {
       "_model_module": "@jupyter-widgets/controls",
       "_model_module_version": "1.5.0",
       "_model_name": "ProgressStyleModel",
       "_view_count": null,
       "_view_module": "@jupyter-widgets/base",
       "_view_module_version": "1.2.0",
       "_view_name": "StyleView",
       "bar_color": null,
       "description_width": ""
      }
     },
     "3959ef94679145779e112115b6b44811": {
      "model_module": "@jupyter-widgets/controls",
      "model_module_version": "1.5.0",
      "model_name": "DescriptionStyleModel",
      "state": {
       "_model_module": "@jupyter-widgets/controls",
       "_model_module_version": "1.5.0",
       "_model_name": "DescriptionStyleModel",
       "_view_count": null,
       "_view_module": "@jupyter-widgets/base",
       "_view_module_version": "1.2.0",
       "_view_name": "StyleView",
       "description_width": ""
      }
     },
     "399793a50df44de893f21cf959f84eef": {
      "model_module": "@jupyter-widgets/base",
      "model_module_version": "1.2.0",
      "model_name": "LayoutModel",
      "state": {
       "_model_module": "@jupyter-widgets/base",
       "_model_module_version": "1.2.0",
       "_model_name": "LayoutModel",
       "_view_count": null,
       "_view_module": "@jupyter-widgets/base",
       "_view_module_version": "1.2.0",
       "_view_name": "LayoutView",
       "align_content": null,
       "align_items": null,
       "align_self": null,
       "border": null,
       "bottom": null,
       "display": null,
       "flex": null,
       "flex_flow": null,
       "grid_area": null,
       "grid_auto_columns": null,
       "grid_auto_flow": null,
       "grid_auto_rows": null,
       "grid_column": null,
       "grid_gap": null,
       "grid_row": null,
       "grid_template_areas": null,
       "grid_template_columns": null,
       "grid_template_rows": null,
       "height": null,
       "justify_content": null,
       "justify_items": null,
       "left": null,
       "margin": null,
       "max_height": null,
       "max_width": null,
       "min_height": null,
       "min_width": null,
       "object_fit": null,
       "object_position": null,
       "order": null,
       "overflow": null,
       "overflow_x": null,
       "overflow_y": null,
       "padding": null,
       "right": null,
       "top": null,
       "visibility": null,
       "width": null
      }
     },
     "490301ff8a544de1b13e3030adc8c2b8": {
      "model_module": "@jupyter-widgets/controls",
      "model_module_version": "1.5.0",
      "model_name": "HBoxModel",
      "state": {
       "_dom_classes": [],
       "_model_module": "@jupyter-widgets/controls",
       "_model_module_version": "1.5.0",
       "_model_name": "HBoxModel",
       "_view_count": null,
       "_view_module": "@jupyter-widgets/controls",
       "_view_module_version": "1.5.0",
       "_view_name": "HBoxView",
       "box_style": "",
       "children": [
        "IPY_MODEL_ba09336280d6411aa68033233eed3311",
        "IPY_MODEL_bc3b94b7ece14d8eb4a559bb275ab7b4",
        "IPY_MODEL_c9330950c9b24c9bbea544494c5e5cd8"
       ],
       "layout": "IPY_MODEL_4ba1ac0f15e942f29ce3e9541db1c938"
      }
     },
     "4ba1ac0f15e942f29ce3e9541db1c938": {
      "model_module": "@jupyter-widgets/base",
      "model_module_version": "1.2.0",
      "model_name": "LayoutModel",
      "state": {
       "_model_module": "@jupyter-widgets/base",
       "_model_module_version": "1.2.0",
       "_model_name": "LayoutModel",
       "_view_count": null,
       "_view_module": "@jupyter-widgets/base",
       "_view_module_version": "1.2.0",
       "_view_name": "LayoutView",
       "align_content": null,
       "align_items": null,
       "align_self": null,
       "border": null,
       "bottom": null,
       "display": null,
       "flex": null,
       "flex_flow": null,
       "grid_area": null,
       "grid_auto_columns": null,
       "grid_auto_flow": null,
       "grid_auto_rows": null,
       "grid_column": null,
       "grid_gap": null,
       "grid_row": null,
       "grid_template_areas": null,
       "grid_template_columns": null,
       "grid_template_rows": null,
       "height": null,
       "justify_content": null,
       "justify_items": null,
       "left": null,
       "margin": null,
       "max_height": null,
       "max_width": null,
       "min_height": null,
       "min_width": null,
       "object_fit": null,
       "object_position": null,
       "order": null,
       "overflow": null,
       "overflow_x": null,
       "overflow_y": null,
       "padding": null,
       "right": null,
       "top": null,
       "visibility": null,
       "width": null
      }
     },
     "4d8bd60656f94c85adf3fa9a53d519cf": {
      "model_module": "@jupyter-widgets/base",
      "model_module_version": "1.2.0",
      "model_name": "LayoutModel",
      "state": {
       "_model_module": "@jupyter-widgets/base",
       "_model_module_version": "1.2.0",
       "_model_name": "LayoutModel",
       "_view_count": null,
       "_view_module": "@jupyter-widgets/base",
       "_view_module_version": "1.2.0",
       "_view_name": "LayoutView",
       "align_content": null,
       "align_items": null,
       "align_self": null,
       "border": null,
       "bottom": null,
       "display": null,
       "flex": null,
       "flex_flow": null,
       "grid_area": null,
       "grid_auto_columns": null,
       "grid_auto_flow": null,
       "grid_auto_rows": null,
       "grid_column": null,
       "grid_gap": null,
       "grid_row": null,
       "grid_template_areas": null,
       "grid_template_columns": null,
       "grid_template_rows": null,
       "height": null,
       "justify_content": null,
       "justify_items": null,
       "left": null,
       "margin": null,
       "max_height": null,
       "max_width": null,
       "min_height": null,
       "min_width": null,
       "object_fit": null,
       "object_position": null,
       "order": null,
       "overflow": null,
       "overflow_x": null,
       "overflow_y": null,
       "padding": null,
       "right": null,
       "top": null,
       "visibility": null,
       "width": null
      }
     },
     "527fa0f3e1d34f768c2419420cc40cac": {
      "model_module": "@jupyter-widgets/controls",
      "model_module_version": "1.5.0",
      "model_name": "HTMLModel",
      "state": {
       "_dom_classes": [],
       "_model_module": "@jupyter-widgets/controls",
       "_model_module_version": "1.5.0",
       "_model_name": "HTMLModel",
       "_view_count": null,
       "_view_module": "@jupyter-widgets/controls",
       "_view_module_version": "1.5.0",
       "_view_name": "HTMLView",
       "description": "",
       "description_tooltip": null,
       "layout": "IPY_MODEL_399793a50df44de893f21cf959f84eef",
       "placeholder": "​",
       "style": "IPY_MODEL_dca8669445e540b3aac799fa7da3d911",
       "value": " 548M/548M [00:02&lt;00:00, 290MB/s]"
      }
     },
     "587ce8ba18084b4e807caf4bf7296871": {
      "model_module": "@jupyter-widgets/controls",
      "model_module_version": "1.5.0",
      "model_name": "FloatProgressModel",
      "state": {
       "_dom_classes": [],
       "_model_module": "@jupyter-widgets/controls",
       "_model_module_version": "1.5.0",
       "_model_name": "FloatProgressModel",
       "_view_count": null,
       "_view_module": "@jupyter-widgets/controls",
       "_view_module_version": "1.5.0",
       "_view_name": "ProgressView",
       "bar_style": "success",
       "description": "",
       "description_tooltip": null,
       "layout": "IPY_MODEL_be61271995204a58832578c6e2288215",
       "max": 5.48105171E8,
       "min": 0.0,
       "orientation": "horizontal",
       "style": "IPY_MODEL_2b3bbba10b3b437bb0cdef2cfd54ded7",
       "value": 5.48105171E8
      }
     },
     "a3ca62092dda4f99a9be41e94e2927aa": {
      "model_module": "@jupyter-widgets/controls",
      "model_module_version": "1.5.0",
      "model_name": "ProgressStyleModel",
      "state": {
       "_model_module": "@jupyter-widgets/controls",
       "_model_module_version": "1.5.0",
       "_model_name": "ProgressStyleModel",
       "_view_count": null,
       "_view_module": "@jupyter-widgets/base",
       "_view_module_version": "1.2.0",
       "_view_name": "StyleView",
       "bar_color": null,
       "description_width": ""
      }
     },
     "a8b6c2483ceb40af97a5d381fa933ab8": {
      "model_module": "@jupyter-widgets/base",
      "model_module_version": "1.2.0",
      "model_name": "LayoutModel",
      "state": {
       "_model_module": "@jupyter-widgets/base",
       "_model_module_version": "1.2.0",
       "_model_name": "LayoutModel",
       "_view_count": null,
       "_view_module": "@jupyter-widgets/base",
       "_view_module_version": "1.2.0",
       "_view_name": "LayoutView",
       "align_content": null,
       "align_items": null,
       "align_self": null,
       "border": null,
       "bottom": null,
       "display": null,
       "flex": null,
       "flex_flow": null,
       "grid_area": null,
       "grid_auto_columns": null,
       "grid_auto_flow": null,
       "grid_auto_rows": null,
       "grid_column": null,
       "grid_gap": null,
       "grid_row": null,
       "grid_template_areas": null,
       "grid_template_columns": null,
       "grid_template_rows": null,
       "height": null,
       "justify_content": null,
       "justify_items": null,
       "left": null,
       "margin": null,
       "max_height": null,
       "max_width": null,
       "min_height": null,
       "min_width": null,
       "object_fit": null,
       "object_position": null,
       "order": null,
       "overflow": null,
       "overflow_x": null,
       "overflow_y": null,
       "padding": null,
       "right": null,
       "top": null,
       "visibility": null,
       "width": null
      }
     },
     "b5476961a6f04e4b8806d67e102587d2": {
      "model_module": "@jupyter-widgets/controls",
      "model_module_version": "1.5.0",
      "model_name": "DescriptionStyleModel",
      "state": {
       "_model_module": "@jupyter-widgets/controls",
       "_model_module_version": "1.5.0",
       "_model_name": "DescriptionStyleModel",
       "_view_count": null,
       "_view_module": "@jupyter-widgets/base",
       "_view_module_version": "1.2.0",
       "_view_name": "StyleView",
       "description_width": ""
      }
     },
     "ba09336280d6411aa68033233eed3311": {
      "model_module": "@jupyter-widgets/controls",
      "model_module_version": "1.5.0",
      "model_name": "HTMLModel",
      "state": {
       "_dom_classes": [],
       "_model_module": "@jupyter-widgets/controls",
       "_model_module_version": "1.5.0",
       "_model_name": "HTMLModel",
       "_view_count": null,
       "_view_module": "@jupyter-widgets/controls",
       "_view_module_version": "1.5.0",
       "_view_name": "HTMLView",
       "description": "",
       "description_tooltip": null,
       "layout": "IPY_MODEL_e65918a49ee64233a2e9b1caa6427cc8",
       "placeholder": "​",
       "style": "IPY_MODEL_1e50dfa1156c4ef4851479b0e784ffad",
       "value": "config.json: 100%"
      }
     },
     "bc3b94b7ece14d8eb4a559bb275ab7b4": {
      "model_module": "@jupyter-widgets/controls",
      "model_module_version": "1.5.0",
      "model_name": "FloatProgressModel",
      "state": {
       "_dom_classes": [],
       "_model_module": "@jupyter-widgets/controls",
       "_model_module_version": "1.5.0",
       "_model_name": "FloatProgressModel",
       "_view_count": null,
       "_view_module": "@jupyter-widgets/controls",
       "_view_module_version": "1.5.0",
       "_view_name": "ProgressView",
       "bar_style": "success",
       "description": "",
       "description_tooltip": null,
       "layout": "IPY_MODEL_1288cda84b944d92ba9981f49da8b1d5",
       "max": 665.0,
       "min": 0.0,
       "orientation": "horizontal",
       "style": "IPY_MODEL_a3ca62092dda4f99a9be41e94e2927aa",
       "value": 665.0
      }
     },
     "be61271995204a58832578c6e2288215": {
      "model_module": "@jupyter-widgets/base",
      "model_module_version": "1.2.0",
      "model_name": "LayoutModel",
      "state": {
       "_model_module": "@jupyter-widgets/base",
       "_model_module_version": "1.2.0",
       "_model_name": "LayoutModel",
       "_view_count": null,
       "_view_module": "@jupyter-widgets/base",
       "_view_module_version": "1.2.0",
       "_view_name": "LayoutView",
       "align_content": null,
       "align_items": null,
       "align_self": null,
       "border": null,
       "bottom": null,
       "display": null,
       "flex": null,
       "flex_flow": null,
       "grid_area": null,
       "grid_auto_columns": null,
       "grid_auto_flow": null,
       "grid_auto_rows": null,
       "grid_column": null,
       "grid_gap": null,
       "grid_row": null,
       "grid_template_areas": null,
       "grid_template_columns": null,
       "grid_template_rows": null,
       "height": null,
       "justify_content": null,
       "justify_items": null,
       "left": null,
       "margin": null,
       "max_height": null,
       "max_width": null,
       "min_height": null,
       "min_width": null,
       "object_fit": null,
       "object_position": null,
       "order": null,
       "overflow": null,
       "overflow_x": null,
       "overflow_y": null,
       "padding": null,
       "right": null,
       "top": null,
       "visibility": null,
       "width": null
      }
     },
     "c9330950c9b24c9bbea544494c5e5cd8": {
      "model_module": "@jupyter-widgets/controls",
      "model_module_version": "1.5.0",
      "model_name": "HTMLModel",
      "state": {
       "_dom_classes": [],
       "_model_module": "@jupyter-widgets/controls",
       "_model_module_version": "1.5.0",
       "_model_name": "HTMLModel",
       "_view_count": null,
       "_view_module": "@jupyter-widgets/controls",
       "_view_module_version": "1.5.0",
       "_view_name": "HTMLView",
       "description": "",
       "description_tooltip": null,
       "layout": "IPY_MODEL_1359f883f2bd4c6f886b85fdfb500323",
       "placeholder": "​",
       "style": "IPY_MODEL_3959ef94679145779e112115b6b44811",
       "value": " 665/665 [00:00&lt;00:00, 54.9kB/s]"
      }
     },
     "dca8669445e540b3aac799fa7da3d911": {
      "model_module": "@jupyter-widgets/controls",
      "model_module_version": "1.5.0",
      "model_name": "DescriptionStyleModel",
      "state": {
       "_model_module": "@jupyter-widgets/controls",
       "_model_module_version": "1.5.0",
       "_model_name": "DescriptionStyleModel",
       "_view_count": null,
       "_view_module": "@jupyter-widgets/base",
       "_view_module_version": "1.2.0",
       "_view_name": "StyleView",
       "description_width": ""
      }
     },
     "e358ef14e89248b9ba237118e8ef8838": {
      "model_module": "@jupyter-widgets/controls",
      "model_module_version": "1.5.0",
      "model_name": "HBoxModel",
      "state": {
       "_dom_classes": [],
       "_model_module": "@jupyter-widgets/controls",
       "_model_module_version": "1.5.0",
       "_model_name": "HBoxModel",
       "_view_count": null,
       "_view_module": "@jupyter-widgets/controls",
       "_view_module_version": "1.5.0",
       "_view_name": "HBoxView",
       "box_style": "",
       "children": [
        "IPY_MODEL_2925ea64aef54875bdfa1c3f07d6df0e",
        "IPY_MODEL_587ce8ba18084b4e807caf4bf7296871",
        "IPY_MODEL_527fa0f3e1d34f768c2419420cc40cac"
       ],
       "layout": "IPY_MODEL_4d8bd60656f94c85adf3fa9a53d519cf"
      }
     },
     "e65918a49ee64233a2e9b1caa6427cc8": {
      "model_module": "@jupyter-widgets/base",
      "model_module_version": "1.2.0",
      "model_name": "LayoutModel",
      "state": {
       "_model_module": "@jupyter-widgets/base",
       "_model_module_version": "1.2.0",
       "_model_name": "LayoutModel",
       "_view_count": null,
       "_view_module": "@jupyter-widgets/base",
       "_view_module_version": "1.2.0",
       "_view_name": "LayoutView",
       "align_content": null,
       "align_items": null,
       "align_self": null,
       "border": null,
       "bottom": null,
       "display": null,
       "flex": null,
       "flex_flow": null,
       "grid_area": null,
       "grid_auto_columns": null,
       "grid_auto_flow": null,
       "grid_auto_rows": null,
       "grid_column": null,
       "grid_gap": null,
       "grid_row": null,
       "grid_template_areas": null,
       "grid_template_columns": null,
       "grid_template_rows": null,
       "height": null,
       "justify_content": null,
       "justify_items": null,
       "left": null,
       "margin": null,
       "max_height": null,
       "max_width": null,
       "min_height": null,
       "min_width": null,
       "object_fit": null,
       "object_position": null,
       "order": null,
       "overflow": null,
       "overflow_x": null,
       "overflow_y": null,
       "padding": null,
       "right": null,
       "top": null,
       "visibility": null,
       "width": null
      }
     }
    },
    "version_major": 2,
    "version_minor": 0
   }
  }
 },
 "nbformat": 4,
 "nbformat_minor": 5
}
